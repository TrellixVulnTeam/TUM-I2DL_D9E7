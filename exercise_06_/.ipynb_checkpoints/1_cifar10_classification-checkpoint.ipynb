{
 "cells": [
  {
   "cell_type": "markdown",
   "metadata": {},
   "source": [
    "# Cifar10 Classification\n",
    "\n",
    "Until now, we have implemented several pieces of a deep learning pipeline and even trained a two-layer neural network, but all the hyperparameters were already set to some values yielding reasonable results. In real-life problems, however, much of the work in a deep learning project will be geared towards finding the best hyperparameters for a certain problem. In this notebook we will explore some good practices for network debugging and hyperparameters search, as well as extending our previous binary classification neural network to a multi-class one.\n",
    "\n",
    "Let's go!"
   ]
  },
  {
   "cell_type": "code",
   "execution_count": 1,
   "metadata": {},
   "outputs": [],
   "source": [
    "# Some lengthy setup.\n",
    "import matplotlib.pyplot as plt\n",
    "import numpy as np\n",
    "import os\n",
    "\n",
    "from exercise_code.networks.layer import (\n",
    "    Sigmoid, \n",
    "    Relu, \n",
    "    LeakyRelu, \n",
    "    Tanh,\n",
    ")\n",
    "from exercise_code.data import (\n",
    "    DataLoader,\n",
    "    ImageFolderDataset,\n",
    "    RescaleTransform,\n",
    "    NormalizeTransform,\n",
    "    FlattenTransform,\n",
    "    ComposeTransform    \n",
    ")\n",
    "from exercise_code.data.image_folder_dataset import RandomHorizontalFlip\n",
    "from exercise_code.networks import (\n",
    "    ClassificationNet,\n",
    "    BCE,\n",
    "    CrossEntropyFromLogits\n",
    ")\n",
    "\n",
    "%load_ext autoreload\n",
    "%autoreload 2\n",
    "%matplotlib inline\n",
    "\n",
    "plt.rcParams['figure.figsize'] = (10.0, 8.0) # set default size of plots\n",
    "plt.rcParams['image.interpolation'] = 'nearest'\n",
    "plt.rcParams['image.cmap'] = 'gray'"
   ]
  },
  {
   "cell_type": "markdown",
   "metadata": {},
   "source": [
    "# 1. Quick recap (and some new things)\n",
    "\n",
    "Until now, in the previous exercises, we focused on building and understanding all the necessary modules for training a simple model. We followed the Pytorch implementations closely, as this is the framework we will use later and we want you to have a smoother transition to its APIs. \n",
    "\n",
    "In the figure below you can see the main components in Pytorch. Before starting the actual exercise, we begin with a quick recap of **our implementation** of these components. \n",
    "\n",
    "Everything is already implemented for this part, but we **strongly** encourage you to check out the respective source files in order to have a better understanding.\n",
    "\n",
    "<img src=\"https://cdn-images-1.medium.com/max/800/1*uZrS4KjAuSJQIJPgOiaJUg.png\" style=\"width: 500px;\">"
   ]
  },
  {
   "cell_type": "markdown",
   "metadata": {},
   "source": [
    "## 1.1 Dataset and Dataloader\n",
    "\n",
    "Data preparation plays an important role in deep learning projects. The data comes from different sources and in different formats and is prepared differently from application to application. One part, however, is clear: because entire datasets are usually too large for us to handle at once, we train our models on smaller batches of data. \n",
    "\n",
    "The goal of the ```Dataset``` class is to encapsulate all the 'dirty' data processing: loading and cleaning the data, storing features (or names of files where features can be found) and labels, as well as providing the means for accessing individual (transformed) items of the data using the ```__getitem__()``` function and an index. You already implemented an ```ImageFolderDataset``` (in ```exercise_code/data/image_folder_dataset.py```) class in Exercise 3. We we will reuse this class here.\n",
    "\n",
    "For processing the data, you implemented several transforms in Exercise 3 (```RescaleTransform```, ```NormalizeTransform```, ```ComposeTransform```). In this exercise we are working with images, which are multidimensional arrays, but we are using simple feedforward neural network which takes a one dimensional array as an input, so it is necessary to reshape the images before feeding them into the model. We implemented this reshape operation for you in the ```FlattenTransform``` class, also found in ```exercise_code/data/image_folder_dataset.py```."
   ]
  },
  {
   "cell_type": "code",
   "execution_count": 2,
   "metadata": {},
   "outputs": [
    {
     "name": "stderr",
     "output_type": "stream",
     "text": [
      "\r",
      "0it [00:00, ?it/s]"
     ]
    },
    {
     "name": "stdout",
     "output_type": "stream",
     "text": [
      "Downloading https://cdn3.vision.in.tum.de/~dl4cv/cifar10.zip to /home/qwenzo/TUM/1st/I2DL/exercise_06/datasets/cifar10/cifar10.zip\n"
     ]
    },
    {
     "name": "stderr",
     "output_type": "stream",
     "text": [
      "120725504it [01:00, 3133300.42it/s]                               "
     ]
    }
   ],
   "source": [
    "download_url = \"https://cdn3.vision.in.tum.de/~dl4cv/cifar10.zip\"\n",
    "i2dl_exercises_path = os.path.dirname(os.path.abspath(os.getcwd()))\n",
    "cifar_root = os.path.join(i2dl_exercises_path, \"datasets\", \"cifar10\")\n",
    "\n",
    "# Use the Cifar10 mean and standard deviation computed in Exercise 3.\n",
    "cifar_mean = np.array([0.49191375, 0.48235852, 0.44673872])\n",
    "cifar_std  = np.array([0.24706447, 0.24346213, 0.26147554])\n",
    "\n",
    "# Define all the transforms we will apply on the images when \n",
    "# retrieving them.\n",
    "rescale_transform = RescaleTransform()\n",
    "normalize_transform = NormalizeTransform(\n",
    "    mean=cifar_mean,\n",
    "    std=cifar_std\n",
    ")\n",
    "flatten_transform = FlattenTransform()\n",
    "compose_transform = ComposeTransform([rescale_transform, \n",
    "                                      normalize_transform,\n",
    "                                      flatten_transform])\n",
    "\n",
    "# Create a train, validation and test dataset.\n",
    "datasets = {}\n",
    "for mode in ['train', 'val', 'test']:\n",
    "    crt_dataset = ImageFolderDataset(\n",
    "        mode=mode,\n",
    "        root=cifar_root, \n",
    "        download_url=download_url,\n",
    "        transform=compose_transform,\n",
    "        split={'train': 0.6, 'val': 0.2, 'test': 0.2}\n",
    "    )\n",
    "    datasets[mode] = crt_dataset"
   ]
  },
  {
   "cell_type": "markdown",
   "metadata": {},
   "source": [
    "Then, based on this ```Dataset``` object, we can construct a ```Dataloader``` object which samples a random mini-batch of data at once. "
   ]
  },
  {
   "cell_type": "code",
   "execution_count": 3,
   "metadata": {},
   "outputs": [],
   "source": [
    "# Create a dataloader for each split.\n",
    "dataloaders = {}\n",
    "for mode in ['train', 'val', 'test']:\n",
    "    crt_dataloader = DataLoader(\n",
    "        dataset=datasets[mode],\n",
    "        batch_size=256,\n",
    "        shuffle=True,\n",
    "        drop_last=True,\n",
    "    )\n",
    "    dataloaders[mode] = crt_dataloader"
   ]
  },
  {
   "cell_type": "markdown",
   "metadata": {},
   "source": [
    "Because the ```Dataloader``` has the ```__iter__()``` method, we can simply iterate through the batches it produces, like this:\n",
    "\n",
    "```python\n",
    "for batch in dataloader['train']:\n",
    "    do_something(batch)\n",
    "```"
   ]
  },
  {
   "cell_type": "markdown",
   "metadata": {},
   "source": [
    "## 1.2 Data Augmentation\n",
    "\n",
    "After the above preprocessing steps, our data is in a good shape and ready to be fed into our network. As explained in the chapter above, we used the transformation functions `RescaleTransform`, `NormalizeTransform` and `FlattenTransform` to achieve this shape. These are the general steps that you need to perform on the data before we can even start the training. Of course, all these steps have to be applied to all three splits of our dataset (train, val and test split). So in other words, preprocessing involves preparing the data before they are used in training and inference. \n",
    "\n",
    "Besides these basic transformations, there are many other transformation methods that you can apply to the images. For example, you can <b>flip the images horizontally</b> or <b>blur the image</b> and use these new images to enlarge your dataset. This idea is called Data Augmentation and it involves methods that alter the training images to generate a synthetic dataset that is larger than your original dataset and will hopefully improve the performance of your model. The purpose here is different than in the data preprocessing steps and there is one big difference between data augmentation and data preprocessing: The transformation methods to enlarge your dataset should only be applied to the training data. The validation and test data are not affected by these methods."
   ]
  },
  {
   "cell_type": "markdown",
   "metadata": {},
   "source": [
    "<div class=\"alert alert-success\">\n",
    "    <h3>Task: Check Code</h3>\n",
    "    <p>The choice of transformation methods to use for data augmentation can be seen as a hyperparameter of your model and you can try to include these to enlarge your training data and obtain better results for your model. In <code>exercise_code/data/image_folder_dataset.py</code> we implemented the function <code>RandomHorizontalFlip</code> for you, which is randomly flipping an image. Check out the implementation.</p>\n",
    "    <p> Later, we will apply some hyperparameter tuning and in order to improve your model's accuracy, you could try to include some data augmentation methods. Fell free to play around and maybe also implement some other methods as for example Gaussian Blur or Rotation. </p>       \n",
    "</div>\n",
    "\n",
    "Let us quickly check out the `RandomHorizontalFlip` method with an image of the Cifar10 dataset in the following cell."
   ]
  },
  {
   "cell_type": "code",
   "execution_count": 7,
   "metadata": {},
   "outputs": [
    {
     "data": {
      "image/png": "[encoded data removed]",
      "text/plain": [
       "<Figure size 144x144 with 2 Axes>"
      ]
     },
     "metadata": {
      "needs_background": "light"
     },
     "output_type": "display_data"
    }
   ],
   "source": [
    "#Load the data in a dataset without any transformation \n",
    "dataset = ImageFolderDataset(\n",
    "        mode=mode,\n",
    "        root=cifar_root, \n",
    "        download_url=download_url,\n",
    "        split={'train': 0.6, 'val': 0.2, 'test': 0.2},\n",
    "    )\n",
    "\n",
    "#Retrieve an image from the dataset and flip it\n",
    "image = dataset[1]['image']\n",
    "transform = RandomHorizontalFlip(1)\n",
    "image_flipped = transform(image)\n",
    "\n",
    "#Show the two images\n",
    "plt.figure(figsize = (2,2))\n",
    "plt.subplot(1, 2, 1)\n",
    "plt.imshow(image.astype('uint8'))\n",
    "plt.axis('off')\n",
    "plt.subplot(1, 2, 2)\n",
    "plt.imshow(image_flipped.astype('uint8'))\n",
    "plt.axis('off')\n",
    "plt.title(\"Left: Original Image, Right: Flipped image\")\n",
    "plt.show()"
   ]
  },
  {
   "cell_type": "markdown",
   "metadata": {},
   "source": [
    "## 1.3 Layers\n",
    "\n",
    "Now, that the data is prepared, we can discuss the model in which we are feeding the data. In our case the model will be a neural network. \n",
    "\n",
    "In Exercise 5, you implemented a simple 2-layer neural network that had a hidden size as a parameter:\n",
    "\n",
    "$$ \n",
    "{\\hat{y}} = \\sigma(\\sigma({x W_1} + {b_1}) {W_2} + {b_2}) \n",
    "$$\n",
    "\n",
    "where $ \\sigma({x}) $ was the sigmoid function, $ {x} $ was the input, $ {W_1}, {W_2} $ the weight matrices and $ {b_1}, {b_2}$ the biases for the two layers.\n",
    "\n",
    "This is how we used this network:"
   ]
  },
  {
   "cell_type": "code",
   "execution_count": 8,
   "metadata": {},
   "outputs": [],
   "source": [
    "input_size = datasets['train'][0]['image'].shape[0]\n",
    "model = ClassificationNet(input_size=input_size, \n",
    "                          hidden_size=512)"
   ]
  },
  {
   "cell_type": "markdown",
   "metadata": {},
   "source": [
    "Note that we updated the ```ClassificationNet``` from the previous exercise, so now you can customize more: the number of outputs, the choice of activation function, the hidden size etc. We encourage you to check out the implementation in ```exercise_code/networks/classification_net.py``` "
   ]
  },
  {
   "cell_type": "code",
   "execution_count": 9,
   "metadata": {},
   "outputs": [],
   "source": [
    "num_layer = 2\n",
    "reg = 0.1\n",
    "\n",
    "model = ClassificationNet(activation=Sigmoid(), \n",
    "                          num_layer=num_layer, \n",
    "                          reg=reg,\n",
    "                          num_classes=10)"
   ]
  },
  {
   "cell_type": "markdown",
   "metadata": {},
   "source": [
    "Then, the forward and backward passes through the model were simply:\n",
    "\n",
    "```python\n",
    "\n",
    "# X is a batch of training features \n",
    "# X.shape = (batch_size, features_size)\n",
    "y_out = model.forward(X)\n",
    "\n",
    "# dout is the gradient of the loss function w.r.t the output of the network.\n",
    "# dout.shape = (batch_size, )\n",
    "model.backward(dout)\n",
    "```"
   ]
  },
  {
   "cell_type": "markdown",
   "metadata": {},
   "source": [
    "Just as the learning rate or the number of iterations we want to train for, the number of hidden layers and the number of units in each hidden layer are also hyperparameters. In this notebook you will play with networks of different sizes and will see the impact that the network capacity has.\n",
    "\n",
    "Before we move on to the loss functions, we want to have a look at the activation functions. The choice of an activation function can have a huge impact on the performance of the network that you are designing. So far, you have implemented the `Sigmoid` and the `Relu` activation function in Exercise 5. "
   ]
  },
  {
   "cell_type": "markdown",
   "metadata": {},
   "source": [
    "<div class=\"alert alert-success\">\n",
    "    <h3>Task: Check Code</h3>\n",
    "    <p>Take a look at the <code>Sigmoid</code> and the <code>Relu</code> class in <code>exercise_code/networks/layer.py</code> and the implementaion of the respective forward and backward pass. Make sure to understand why we use <b>elementwise product</b> instead of dot product in the backward pass of the <code>Sigmoid</code> class to compute the gradient $dx$. That will be helpful for your later implementation of other activation functions.</p>\n",
    "    <p> <b>Note:</b> The <code>cache</code> variable is used to store information from the forward pass and then pass this information in the backward pass to make use of it there. The implementation of both classes show that this variable can be used differently - depending on what information is needed in the backward pass. </p>\n",
    "        \n",
    "</div>"
   ]
  },
  {
   "cell_type": "markdown",
   "metadata": {},
   "source": [
    "Now, we want to have a look at two other, very common activation functions that you have already met in the lecture: Leaky ReLU activation function and Tanh activation function. \n",
    "\n",
    "**Leaky Relus** are one attempt to fix the “dying ReLU” problem. Instead of the function being zero when $x<0$, a leaky ReLU has a small negative slope (for example, 0.01). That is, the function computes $f(x) = \\mathbb{1}(x < 0) (\\alpha x) + \\mathbb{1}(x>=0) (x)$ where $\\alpha$ is a small constant. Some people report success with this form of activation function, but the results are not always consistent.\n",
    "\n",
    "The **tanh non-linearity** squashes a real-valued number to the range [-1, 1]. Like the sigmoid neuron, its activations saturate, but unlike the sigmoid neuron its output is zero-centered. Therefore, in practice the tanh non-linearity is always preferred to the sigmoid non-linearity. Also note that the tanh neuron is simply a scaled sigmoid neuron, in particular the following holds: $\\tanh(x) = 2 \\cdot \\sigma(2x) -1$.\n",
    "\n",
    "<img class=left src=https://pytorch.org/docs/stable/_images/LeakyReLU.png alt=\"Figure3\" width=\"350\" align='left'/> \n",
    "<img class=right src=https://pytorch.org/docs/stable/_images/Tanh.png alt=\"Figure4\" width=\"350\"/>"
   ]
  },
  {
   "cell_type": "markdown",
   "metadata": {},
   "source": [
    "<div class=\"alert alert-info\">\n",
    "    <h3>Task: Implement Activation Layers</h3>\n",
    "    <p> Now, it is your turn to implement the <code>LeakyRelu</code> and the <code>Tanh</code> class in <code>exercise_code/networks/layer.py</code> by completing the <code>forward</code> and the <code>backward</code> functions. You can test your implementation in the following two cells. </p>\n",
    "    <p> <b>Note:</b> Always remember to return a cache in <code>forward</code> for later backpropagation in <code>backward</code>. As we have seen above, the <code>cache</code> variable can be used differently for two activation functions.</p>\n",
    "</div>\n",
    "\n",
    "Use this cell to test your implementation of the `LeakyRelu` class:"
   ]
  },
  {
   "cell_type": "code",
   "execution_count": 17,
   "metadata": {},
   "outputs": [
    {
     "name": "stdout",
     "output_type": "stream",
     "text": [
      "LeakyReluForwardTest passed.\n",
      "LeakyReluBackwardTest passed.\n",
      "Congratulations you have passed all the unit tests!!! Tests passed: 2/2\n",
      "Score: 100/100\n",
      "You secured a score of :100\n"
     ]
    }
   ],
   "source": [
    "from exercise_code.tests.layer_tests import *\n",
    "print(LeakyReluTestWrapper()())"
   ]
  },
  {
   "cell_type": "markdown",
   "metadata": {},
   "source": [
    "And this cell to test your implementation of the `Tanh` class:"
   ]
  },
  {
   "cell_type": "code",
   "execution_count": 19,
   "metadata": {},
   "outputs": [
    {
     "name": "stdout",
     "output_type": "stream",
     "text": [
      "TanhForwardTest passed.\n",
      "TanhBackwardTest passed.\n",
      "Congratulations you have passed all the unit tests!!! Tests passed: 2/2\n",
      "Score: 100/100\n",
      "You secured a score of :100\n"
     ]
    }
   ],
   "source": [
    "print(TanhTestWrapper()())"
   ]
  },
  {
   "cell_type": "markdown",
   "metadata": {},
   "source": [
    "Congratulations, you now implemented all four different activation functions! These activation layers are now ready to be used when you start building your own network."
   ]
  },
  {
   "cell_type": "markdown",
   "metadata": {},
   "source": [
    "## 1.4 Loss\n",
    "\n",
    "In order to measure how well a network is performing, we implemented several ```Loss``` classes (```L1```, ```MSE```, ```BCE```, each preferred for a certain type of problems) in ```exercise_code/networks/loss.py```.\n",
    "\n",
    "Each implemented a ```forward()``` method, which outputs a number that we use as a proxy for our network performance. \n",
    "\n",
    "Also, because our goal was to change the weights of the network such that this loss measure decreases, we were also interested in the gradients of the loss w.r.t the outputs of the network, $ \\nabla_{\\hat{y}} L({\\hat{y}}, {y}) $. This was implemented in ```backward()```. \n",
    "\n",
    "In previous exercises we worked with binary classification and used binary cross entropy (```BCE```) as a loss function.\n",
    "\n",
    "$$ BCE(\\hat{y}, y) = \\frac{1}{N} \\sum_{i=1}^N \\Big [-y_i \\log(\\hat{y_i}) - (1-y_i) \\log(1 - \\hat{y_i}) \\Big] $$ \n",
    "\n",
    "where\n",
    "- $ N $ was the number of samples we were considering\n",
    "- $\\hat{y}_i$ was the network's prediction for sample $i$. Note that this was a valid probability $\\in [0, 1]$, because we applied a [sigmoid](https://en.wikipedia.org/wiki/Sigmoid_function) activation on the last layer\n",
    "- $ y_i $ was the ground truth label (0 or 1, depending on the class)\n",
    "\n",
    "Because we have 10 classes in the CIFAR10 dataset, we need a generalization of the binary cross entropy for multiple classes. Remember that this loss has been introduced last week in Exercise 5. It is called the cross entropy loss and has the following definition:\n",
    "\n",
    "$$ CE(\\hat{y}, y) = \\frac{1}{N} \\sum_{i=1}^N \\sum_{k=1}^{C} \\Big[ -y_{ik} \\log(\\hat{y}_{ik}) \\Big] $$\n",
    "\n",
    "where:\n",
    "- $ N $ is again the number of samples\n",
    "- $ C $ is the number of classes\n",
    "- $ \\hat{y}_{ik} $ is the probability that the model assigns for the $k$-th class when the $i$-th sample is the input. **Because we don't apply any activation function on the last layer of our network, its outputs for each sample will not be a valid probability distribution over the classes. We call these raw outputs of the network '[logits](https://datascience.stackexchange.com/questions/31041/what-does-logits-in-machine-learning-mean/31045)' and we will apply a [softmax](https://en.wikipedia.org/wiki/Softmax_function) activation in order to obtain a valid probability distribution.** \n",
    "- $y_{ik} = 1 $ iff the true label of the $i$-th sample is $k$ and 0 otherwise. This is called a [one-hot encoding](https://machinelearningmastery.com/why-one-hot-encode-data-in-machine-learning/)."
   ]
  },
  {
   "cell_type": "markdown",
   "metadata": {},
   "source": [
    "Just as with the previous losses we have seen, we can simply get the results of the forward and backward passes as follows:\n",
    "\n",
    "```python\n",
    "# y_out is the output of the neural network\n",
    "# y_truth is the actual label from the dataset\n",
    "loss.forward(y_out, y_truth)\n",
    "loss.backward(y_out, y_truth)\n",
    "```"
   ]
  },
  {
   "cell_type": "markdown",
   "metadata": {},
   "source": [
    "## 1.5 Optimizer\n",
    "\n",
    "Now, knowing the gradient of the loss w.r.t the ouputs of the network, as well as the local gradient for each layer of the network, we can use the chain rule to compute all gradients. \n",
    "\n",
    "We implemented several optimizer classes (```SGD```, ```Adam```, ```sgd_momentum```, which you can check out in ```exercise_code/networks/optimizer.py```) that implement different first-order parameter update rules. The ```step()``` method iterates through all the parameters of a model and updates them using the gradient information.\n",
    "\n",
    "What the optimizer is doing, in pseudocode, is the following:\n",
    "\n",
    "```python\n",
    "for param in model:\n",
    "    # Use the gradient to update the weights.\n",
    "    update(param)\n",
    "    \n",
    "    # Reset the gradient after each update.\n",
    "    param.gradient = 0\n",
    "```\n",
    "\n",
    "```SGD``` had the simplest update rule:\n",
    "```python\n",
    "def update(param):\n",
    "    param = param - learning_rate * param.gradient\n",
    "```\n",
    "\n",
    "For the more complicated update rules, see ```exercise_code/networks/optimizer.py```"
   ]
  },
  {
   "cell_type": "markdown",
   "metadata": {},
   "source": [
    "## 1.6 Solver\n",
    "\n",
    "The ```Solver``` is where all the above elements come together: Given a train and a validation dataloader, a model, a loss and an optimizer, it uses the training data to optimize a model in order to get better predictions. We simply call ```train()``` and it does its 'magic' for us!\n",
    "```python\n",
    "solver = Solver(model, \n",
    "                dataloaders['train'], \n",
    "                dataloaders['val'], \n",
    "                learning_rate=0.001, \n",
    "                loss_func=MSE(), \n",
    "                optimizer=SGD)\n",
    "\n",
    "solver.train(epochs=epochs)\n",
    "```\n",
    "\n",
    "In order to see, that there is no actual 'magic' check out its implementation in ```exercise_code/solver.py```. :)"
   ]
  },
  {
   "cell_type": "markdown",
   "metadata": {},
   "source": [
    "## 1.7 Weight Regularization\n",
    "\n",
    "Before we finish this section of recap, we want to take a look at some regularization method that has been introduced in the lecture and that is super helpful to improve robustness of our model. Here, we talk about weight regularization.\n",
    "\n",
    "Weight regularization has been introduced to you as a method preventing our model from overfitting. Essentially, it is a term (solely depending on the weights of our model) that is added to the final loss and that encodes some preference for a certain set of weights $W$ over others. In the lecture, we compared two weight regularization methods and their respective preference for weight vectors. We made the following observation: \n",
    "\n",
    "1. L1 regularization: Enforces sparsity \n",
    "2. L2 regularization: Enforces that weights have similar values\n",
    "\n",
    "The most common weight regularization method is the L2 regularization. From the observations made in the lecture that makes totally sense - at least when we compare it to the L1 regularization. The L2 regularization penalty in the loss prefers smaller and more diffuse weight vectors and hence the model is encouraged to take into account all input dimensions to small amounts rather than a few input dimensions and very strongly.\n",
    "\n",
    "When using weight regularization, the loss function is a composition of two parts:\n",
    "$$L = \\underbrace{\\frac{1}{N} \\sum_{i} L_i}_{\\text{data loss}}  + \\underbrace{\\lambda R(W)}_{\\text{regularization loss}}$$\n",
    "The first one being the data loss, which is calculated with the Cross Entropy loss in our model. The second part is called the regularization loss $R(W)$ and is computed in the L2 case as follows:\n",
    "$$R(W) = \\sum_{k} \\sum_{l} w_{k,l}^2$$"
   ]
  },
  {
   "cell_type": "markdown",
   "metadata": {},
   "source": [
    "<div class=\"alert alert-success\">\n",
    "    <h3>Task: Check Code </h3>\n",
    "    <p> For convenience, we have already implemented the L2 weight regularization for you. We highly recommend to check the implementation of the method in <code>exercise_code/networks/classification_net.py</code>. The implementation that takes place in the <code>forward()</code> and <code>backward()</code> method have an impact on the whole training pipeline. Also take a look at the <code>exercise_code/networks/loss.py</code> and <code>exercise_code/solver.py</code>.  </p>\n",
    "        \n",
    "</div>"
   ]
  },
  {
   "cell_type": "markdown",
   "metadata": {
    "collapsed": true
   },
   "source": [
    "# 2. Hyperparameters\n",
    "\n",
    "<img src=https://images.deepai.org/glossary-terms/05c646fe1676490aa0b8cab0732a02b2/hyperparams.png alt=hyperparameter width=700>\n",
    "\n",
    "A **hyperparameter** is a parameter that is set before the learning process begins. Recall that the parameters of weight matrix and bias vector are learned during the learning process.\n",
    "\n",
    "The hyperparameters are essential, they control and affect the whole training and have a great impact on the performance of the model. Some examples of hyperparameters we have covered in lectures:\n",
    "* Network architecture\n",
    "    * Choice of activation function\n",
    "    * Number of layers\n",
    "    * ...\n",
    "* Learning rate\n",
    "* Number of epochs\n",
    "* Batch size\n",
    "* Regularization strength\n",
    "* Momentum\n",
    "* ...\n",
    "\n",
    "Do you understand the difference between **hyperparameters** and **learnt parameters** now?"
   ]
  },
  {
   "cell_type": "markdown",
   "metadata": {},
   "source": [
    "## Start debugging your own network!\n",
    "\n",
    "As already suggested in the lectures, you may always want to start from small and simple architectures, to make sure you are going the right way. \n",
    "\n",
    "First you may need to overfit a single training sample, then a few batches of training samples, then go deeper with larger neural networks and the whole training data.\n",
    "\n",
    "Here we always provide a default neural network (i.e. `ClassificationNet`) with arbitrary number of layers, which is a generalization from the fixed 2-layer neural network in Exercise 5. You are welcome to implement your own network, in that case just implement **`MyOwnNetwork`** in ```exercise_code/networks/classification_net.py```. You can also copy things from `ClassficationNet` and make a little adjustment to your own network. For either way, just pick a network and comment out the other one, then run the cells below for debugging.\n",
    "\n",
    "__Note__: \n",
    "- Please, make sure you don't modify the `ClassificationNet` itself so that you can always have a working network to fall back on.\n",
    "- In order to pass this submissions, you can **first stick to the default `ClassificationNet` implementation without changing any code at all**. The goal of this submission is to find reasonable hyperparameters and the parameter options of the `ClassificationNet` are broad enough.\n",
    "- Once you have surpassed the submission goal, you can try different activation functions, different weight initializations or other adjustments by writing your own network architecture in the MyOwnNetwork class."
   ]
  },
  {
   "cell_type": "markdown",
   "metadata": {},
   "source": [
    "First, let's begin with a 2-layer neural network, and overfit one single training sample.\n",
    "\n",
    "After training, let's evaluate the training process by plotting the loss curves."
   ]
  },
  {
   "cell_type": "code",
   "execution_count": 20,
   "metadata": {},
   "outputs": [
    {
     "name": "stdout",
     "output_type": "stream",
     "text": [
      "(Epoch 1 / 20) train loss: 2.322945; val loss: 2.334169\n",
      "(Epoch 2 / 20) train loss: 2.322945; val loss: 2.322836\n",
      "(Epoch 3 / 20) train loss: 2.190384; val loss: 2.334040\n",
      "(Epoch 4 / 20) train loss: 2.038733; val loss: 2.359824\n",
      "(Epoch 5 / 20) train loss: 1.872424; val loss: 2.390390\n",
      "(Epoch 6 / 20) train loss: 1.707935; val loss: 2.418474\n",
      "(Epoch 7 / 20) train loss: 1.552594; val loss: 2.440319\n",
      "(Epoch 8 / 20) train loss: 1.406348; val loss: 2.455864\n",
      "(Epoch 9 / 20) train loss: 1.268977; val loss: 2.467490\n",
      "(Epoch 10 / 20) train loss: 1.139634; val loss: 2.478518\n",
      "(Epoch 11 / 20) train loss: 1.017121; val loss: 2.491633\n",
      "(Epoch 12 / 20) train loss: 0.901971; val loss: 2.508222\n",
      "(Epoch 13 / 20) train loss: 0.797242; val loss: 2.528387\n",
      "(Epoch 14 / 20) train loss: 0.704871; val loss: 2.551310\n",
      "(Epoch 15 / 20) train loss: 0.624158; val loss: 2.575938\n",
      "(Epoch 16 / 20) train loss: 0.553381; val loss: 2.601455\n",
      "(Epoch 17 / 20) train loss: 0.491432; val loss: 2.627429\n",
      "(Epoch 18 / 20) train loss: 0.438083; val loss: 2.653805\n",
      "(Epoch 19 / 20) train loss: 0.393047; val loss: 2.680831\n",
      "(Epoch 20 / 20) train loss: 0.355443; val loss: 2.708904\n"
     ]
    }
   ],
   "source": [
    "from exercise_code.solver import Solver\n",
    "from exercise_code.networks.optimizer import SGD, Adam\n",
    "from exercise_code.networks import MyOwnNetwork\n",
    "\n",
    "num_layer = 2\n",
    "epochs = 20\n",
    "reg = 0.1\n",
    "batch_size = 4\n",
    "\n",
    "model = ClassificationNet(num_layer=num_layer, reg=reg)\n",
    "# model = MyOwnNetwork()\n",
    "\n",
    "loss = CrossEntropyFromLogits()\n",
    "\n",
    "# Make a new data loader with a single training image\n",
    "overfit_dataset = ImageFolderDataset(\n",
    "    mode='train',\n",
    "    root=cifar_root, \n",
    "    download_url=download_url,\n",
    "    transform=compose_transform,\n",
    "    limit_files=1\n",
    ")\n",
    "dataloaders['train_overfit_single_image'] = DataLoader(\n",
    "    dataset=overfit_dataset,\n",
    "    batch_size=batch_size,\n",
    "    shuffle=True,\n",
    "    drop_last=False,\n",
    ")\n",
    "\n",
    "# Decrease validation data for only debugging\n",
    "debugging_validation_dataset = ImageFolderDataset(\n",
    "    mode='val',\n",
    "    root=cifar_root, \n",
    "    download_url=download_url,\n",
    "    transform=compose_transform,\n",
    "\n",
    "    limit_files=100\n",
    ")\n",
    "dataloaders['val_500files'] = DataLoader(\n",
    "    dataset=debugging_validation_dataset,\n",
    "    batch_size=batch_size,\n",
    "    shuffle=True,\n",
    "    drop_last=True,\n",
    ")\n",
    "\n",
    "solver = Solver(model, dataloaders['train_overfit_single_image'], dataloaders['val_500files'], \n",
    "                learning_rate=1e-3, loss_func=loss, optimizer=Adam)\n",
    "\n",
    "solver.train(epochs=epochs)"
   ]
  },
  {
   "cell_type": "code",
   "execution_count": 21,
   "metadata": {},
   "outputs": [
    {
     "data": {
      "image/png": "[encoded data removed]",
      "text/plain": [
       "<Figure size 432x288 with 1 Axes>"
      ]
     },
     "metadata": {
      "needs_background": "light"
     },
     "output_type": "display_data"
    }
   ],
   "source": [
    "plt.title('Loss curves')\n",
    "plt.plot(solver.train_loss_history, '-', label='train')\n",
    "plt.plot(solver.val_loss_history, '-', label='val')\n",
    "plt.legend(loc='lower right')\n",
    "plt.xlabel('Iteration')\n",
    "plt.show()"
   ]
  },
  {
   "cell_type": "code",
   "execution_count": 22,
   "metadata": {},
   "outputs": [
    {
     "name": "stdout",
     "output_type": "stream",
     "text": [
      "Training accuray: 1.00000\n",
      "Validation accuray: 0.07000\n"
     ]
    }
   ],
   "source": [
    "print(\"Training accuray: %.5f\" % (solver.get_dataset_accuracy(dataloaders['train_overfit_single_image'])))\n",
    "print(\"Validation accuray: %.5f\" % (solver.get_dataset_accuracy(dataloaders['val_500files'])))"
   ]
  },
  {
   "cell_type": "markdown",
   "metadata": {},
   "source": [
    "This time let's try to overfit to a small set of training batch samples. Please observe the difference from above. "
   ]
  },
  {
   "cell_type": "code",
   "execution_count": 26,
   "metadata": {},
   "outputs": [
    {
     "name": "stdout",
     "output_type": "stream",
     "text": [
      "(Epoch 1 / 200) train loss: 2.332013; val loss: 2.333525\n",
      "(Epoch 2 / 200) train loss: 2.324771; val loss: 2.334638\n",
      "(Epoch 3 / 200) train loss: 2.207133; val loss: 2.388624\n",
      "(Epoch 4 / 200) train loss: 2.053134; val loss: 2.437715\n",
      "(Epoch 5 / 200) train loss: 2.050757; val loss: 2.520834\n",
      "(Epoch 6 / 200) train loss: 1.928922; val loss: 2.563732\n",
      "(Epoch 7 / 200) train loss: 1.860681; val loss: 2.624585\n",
      "(Epoch 8 / 200) train loss: 1.730002; val loss: 2.705368\n",
      "(Epoch 9 / 200) train loss: 1.756177; val loss: 2.790806\n",
      "(Epoch 10 / 200) train loss: 1.812219; val loss: 2.837724\n",
      "(Epoch 11 / 200) train loss: 1.720104; val loss: 2.850129\n",
      "(Epoch 12 / 200) train loss: 1.649935; val loss: 2.973827\n",
      "(Epoch 13 / 200) train loss: 1.627353; val loss: 3.086155\n",
      "(Epoch 14 / 200) train loss: 1.678729; val loss: 3.115468\n",
      "(Epoch 15 / 200) train loss: 1.602901; val loss: 3.076550\n",
      "(Epoch 16 / 200) train loss: 1.679859; val loss: 3.091443\n",
      "(Epoch 17 / 200) train loss: 1.721486; val loss: 3.159914\n",
      "(Epoch 18 / 200) train loss: 1.661121; val loss: 3.240636\n",
      "(Epoch 19 / 200) train loss: 1.749338; val loss: 3.234827\n",
      "(Epoch 20 / 200) train loss: 1.571160; val loss: 3.241391\n",
      "(Epoch 21 / 200) train loss: 1.547757; val loss: 3.302375\n",
      "(Epoch 22 / 200) train loss: 1.656176; val loss: 3.297679\n",
      "(Epoch 23 / 200) train loss: 1.591054; val loss: 3.290794\n",
      "(Epoch 24 / 200) train loss: 1.434249; val loss: 3.359083\n",
      "(Epoch 25 / 200) train loss: 1.574364; val loss: 3.415420\n",
      "(Epoch 26 / 200) train loss: 1.652516; val loss: 3.387180\n",
      "(Epoch 27 / 200) train loss: 1.479918; val loss: 3.361536\n",
      "(Epoch 28 / 200) train loss: 1.510469; val loss: 3.336662\n",
      "(Epoch 29 / 200) train loss: 1.593478; val loss: 3.366462\n",
      "(Epoch 30 / 200) train loss: 1.495067; val loss: 3.389752\n",
      "(Epoch 31 / 200) train loss: 1.523854; val loss: 3.377347\n",
      "(Epoch 32 / 200) train loss: 1.480511; val loss: 3.388031\n",
      "(Epoch 33 / 200) train loss: 1.431967; val loss: 3.413858\n",
      "(Epoch 34 / 200) train loss: 1.409192; val loss: 3.419601\n",
      "(Epoch 35 / 200) train loss: 1.355112; val loss: 3.413880\n",
      "(Epoch 36 / 200) train loss: 1.338889; val loss: 3.416716\n",
      "(Epoch 37 / 200) train loss: 1.298382; val loss: 3.439946\n",
      "(Epoch 38 / 200) train loss: 1.359456; val loss: 3.452850\n",
      "(Epoch 39 / 200) train loss: 1.267986; val loss: 3.483472\n",
      "(Epoch 40 / 200) train loss: 1.361970; val loss: 3.460313\n",
      "(Epoch 41 / 200) train loss: 1.376239; val loss: 3.422669\n",
      "(Epoch 42 / 200) train loss: 1.295259; val loss: 3.471636\n",
      "(Epoch 43 / 200) train loss: 1.270256; val loss: 3.520637\n",
      "(Epoch 44 / 200) train loss: 1.310295; val loss: 3.501366\n",
      "(Epoch 45 / 200) train loss: 1.293727; val loss: 3.498125\n",
      "(Epoch 46 / 200) train loss: 1.267063; val loss: 3.503544\n",
      "(Epoch 47 / 200) train loss: 1.172868; val loss: 3.503488\n",
      "(Epoch 48 / 200) train loss: 1.200291; val loss: 3.477149\n",
      "(Epoch 49 / 200) train loss: 1.170126; val loss: 3.471973\n",
      "(Epoch 50 / 200) train loss: 1.118050; val loss: 3.467160\n",
      "(Epoch 51 / 200) train loss: 1.255512; val loss: 3.495047\n",
      "(Epoch 52 / 200) train loss: 1.155465; val loss: 3.592374\n",
      "(Epoch 53 / 200) train loss: 1.278458; val loss: 3.632273\n",
      "(Epoch 54 / 200) train loss: 1.235666; val loss: 3.607246\n",
      "(Epoch 55 / 200) train loss: 1.162362; val loss: 3.554688\n",
      "(Epoch 56 / 200) train loss: 1.176885; val loss: 3.537630\n",
      "(Epoch 57 / 200) train loss: 1.107605; val loss: 3.559993\n",
      "(Epoch 58 / 200) train loss: 1.132858; val loss: 3.569060\n",
      "(Epoch 59 / 200) train loss: 1.101435; val loss: 3.561795\n",
      "(Epoch 60 / 200) train loss: 1.024429; val loss: 3.539973\n",
      "(Epoch 61 / 200) train loss: 1.020471; val loss: 3.513058\n",
      "(Epoch 62 / 200) train loss: 1.039137; val loss: 3.507470\n",
      "(Epoch 63 / 200) train loss: 0.993419; val loss: 3.533705\n",
      "(Epoch 64 / 200) train loss: 0.990949; val loss: 3.558576\n",
      "(Epoch 65 / 200) train loss: 1.000767; val loss: 3.551204\n",
      "(Epoch 66 / 200) train loss: 0.993967; val loss: 3.565987\n",
      "(Epoch 67 / 200) train loss: 1.019581; val loss: 3.607382\n",
      "(Epoch 68 / 200) train loss: 1.005682; val loss: 3.628186\n",
      "(Epoch 69 / 200) train loss: 0.983595; val loss: 3.605699\n",
      "(Epoch 70 / 200) train loss: 1.004743; val loss: 3.559961\n",
      "(Epoch 71 / 200) train loss: 1.068083; val loss: 3.565481\n",
      "(Epoch 72 / 200) train loss: 1.030507; val loss: 3.622443\n",
      "(Epoch 73 / 200) train loss: 0.986377; val loss: 3.658430\n",
      "(Epoch 74 / 200) train loss: 0.958757; val loss: 3.645853\n",
      "(Epoch 75 / 200) train loss: 0.962009; val loss: 3.580891\n",
      "(Epoch 76 / 200) train loss: 0.941504; val loss: 3.560607\n",
      "(Epoch 77 / 200) train loss: 0.907838; val loss: 3.570341\n",
      "(Epoch 78 / 200) train loss: 0.918328; val loss: 3.581764\n",
      "(Epoch 79 / 200) train loss: 0.892954; val loss: 3.601642\n",
      "(Epoch 80 / 200) train loss: 0.886623; val loss: 3.558641\n",
      "(Epoch 81 / 200) train loss: 0.914845; val loss: 3.550141\n",
      "(Epoch 82 / 200) train loss: 0.905170; val loss: 3.553841\n",
      "(Epoch 83 / 200) train loss: 0.925076; val loss: 3.548859\n",
      "(Epoch 84 / 200) train loss: 0.863771; val loss: 3.560499\n",
      "(Epoch 85 / 200) train loss: 0.899323; val loss: 3.577169\n",
      "(Epoch 86 / 200) train loss: 0.840363; val loss: 3.585725\n",
      "(Epoch 87 / 200) train loss: 0.885747; val loss: 3.570471\n",
      "(Epoch 88 / 200) train loss: 0.882665; val loss: 3.530434\n",
      "(Epoch 89 / 200) train loss: 0.843423; val loss: 3.539355\n",
      "(Epoch 90 / 200) train loss: 0.839722; val loss: 3.551672\n",
      "(Epoch 91 / 200) train loss: 0.840684; val loss: 3.555105\n",
      "(Epoch 92 / 200) train loss: 0.915156; val loss: 3.567240\n",
      "(Epoch 93 / 200) train loss: 0.880004; val loss: 3.653146\n",
      "(Epoch 94 / 200) train loss: 1.042975; val loss: 3.628404\n",
      "(Epoch 95 / 200) train loss: 0.894597; val loss: 3.636836\n",
      "(Epoch 96 / 200) train loss: 0.924424; val loss: 3.655481\n",
      "(Epoch 97 / 200) train loss: 0.963551; val loss: 3.659140\n",
      "(Epoch 98 / 200) train loss: 0.891771; val loss: 3.679804\n",
      "(Epoch 99 / 200) train loss: 0.835620; val loss: 3.628791\n",
      "(Epoch 100 / 200) train loss: 0.877675; val loss: 3.569124\n",
      "(Epoch 101 / 200) train loss: 0.850241; val loss: 3.557339\n",
      "(Epoch 102 / 200) train loss: 0.878596; val loss: 3.564649\n",
      "(Epoch 103 / 200) train loss: 0.803888; val loss: 3.541986\n",
      "(Epoch 104 / 200) train loss: 0.882385; val loss: 3.506589\n",
      "(Epoch 105 / 200) train loss: 0.803968; val loss: 3.514332\n",
      "(Epoch 106 / 200) train loss: 0.985914; val loss: 3.573045\n",
      "(Epoch 107 / 200) train loss: 0.883157; val loss: 3.805203\n",
      "(Epoch 108 / 200) train loss: 1.029896; val loss: 3.849168\n",
      "(Epoch 109 / 200) train loss: 1.017330; val loss: 3.824138\n",
      "(Epoch 110 / 200) train loss: 1.004925; val loss: 3.764287\n",
      "(Epoch 111 / 200) train loss: 0.948009; val loss: 3.727347\n",
      "(Epoch 112 / 200) train loss: 0.905892; val loss: 3.687792\n",
      "(Epoch 113 / 200) train loss: 0.895750; val loss: 3.641314\n",
      "(Epoch 114 / 200) train loss: 0.818491; val loss: 3.624003\n",
      "(Epoch 115 / 200) train loss: 0.870908; val loss: 3.584451\n",
      "(Epoch 116 / 200) train loss: 0.802901; val loss: 3.545385\n",
      "(Epoch 117 / 200) train loss: 0.792355; val loss: 3.520856\n",
      "(Epoch 118 / 200) train loss: 0.836357; val loss: 3.519894\n",
      "(Epoch 119 / 200) train loss: 0.825876; val loss: 3.563609\n",
      "(Epoch 120 / 200) train loss: 0.828801; val loss: 3.613425\n",
      "(Epoch 121 / 200) train loss: 0.796365; val loss: 3.604785\n",
      "(Epoch 122 / 200) train loss: 0.796444; val loss: 3.559945\n",
      "(Epoch 123 / 200) train loss: 0.778677; val loss: 3.521183\n",
      "(Epoch 124 / 200) train loss: 0.787822; val loss: 3.502445\n",
      "(Epoch 125 / 200) train loss: 0.789394; val loss: 3.519939\n",
      "(Epoch 126 / 200) train loss: 0.787905; val loss: 3.564260\n",
      "(Epoch 127 / 200) train loss: 0.795009; val loss: 3.551778\n",
      "(Epoch 128 / 200) train loss: 0.766831; val loss: 3.529344\n",
      "(Epoch 129 / 200) train loss: 0.762072; val loss: 3.540550\n",
      "(Epoch 130 / 200) train loss: 0.796124; val loss: 3.560367\n",
      "(Epoch 131 / 200) train loss: 0.773366; val loss: 3.590791\n",
      "(Epoch 132 / 200) train loss: 0.778534; val loss: 3.585708\n",
      "(Epoch 133 / 200) train loss: 0.817168; val loss: 3.537452\n",
      "(Epoch 134 / 200) train loss: 0.782555; val loss: 3.554765\n",
      "(Epoch 135 / 200) train loss: 0.875482; val loss: 3.610960\n",
      "(Epoch 136 / 200) train loss: 0.825020; val loss: 3.724754\n",
      "(Epoch 137 / 200) train loss: 0.838351; val loss: 3.767059\n",
      "(Epoch 138 / 200) train loss: 0.829140; val loss: 3.719599\n",
      "(Epoch 139 / 200) train loss: 0.787835; val loss: 3.663501\n",
      "(Epoch 140 / 200) train loss: 0.772715; val loss: 3.616069\n",
      "(Epoch 141 / 200) train loss: 0.776021; val loss: 3.563459\n"
     ]
    },
    {
     "name": "stdout",
     "output_type": "stream",
     "text": [
      "(Epoch 142 / 200) train loss: 0.782624; val loss: 3.532363\n",
      "(Epoch 143 / 200) train loss: 0.762934; val loss: 3.559858\n",
      "(Epoch 144 / 200) train loss: 0.793015; val loss: 3.592558\n",
      "(Epoch 145 / 200) train loss: 0.768788; val loss: 3.609600\n",
      "(Epoch 146 / 200) train loss: 0.791324; val loss: 3.596469\n",
      "(Epoch 147 / 200) train loss: 0.767513; val loss: 3.606834\n",
      "(Epoch 148 / 200) train loss: 0.773264; val loss: 3.608601\n",
      "(Epoch 149 / 200) train loss: 0.787527; val loss: 3.580731\n",
      "(Epoch 150 / 200) train loss: 0.748843; val loss: 3.571175\n",
      "(Epoch 151 / 200) train loss: 0.759817; val loss: 3.606973\n",
      "(Epoch 152 / 200) train loss: 0.753940; val loss: 3.588460\n",
      "(Epoch 153 / 200) train loss: 0.749610; val loss: 3.569685\n",
      "(Epoch 154 / 200) train loss: 0.723271; val loss: 3.544464\n",
      "(Epoch 155 / 200) train loss: 0.739467; val loss: 3.568432\n",
      "(Epoch 156 / 200) train loss: 0.784192; val loss: 3.578702\n",
      "(Epoch 157 / 200) train loss: 0.764407; val loss: 3.567910\n",
      "(Epoch 158 / 200) train loss: 0.737180; val loss: 3.572442\n",
      "(Epoch 159 / 200) train loss: 0.736602; val loss: 3.616532\n",
      "(Epoch 160 / 200) train loss: 0.750204; val loss: 3.637542\n",
      "(Epoch 161 / 200) train loss: 0.771143; val loss: 3.609703\n",
      "(Epoch 162 / 200) train loss: 0.753939; val loss: 3.551755\n",
      "(Epoch 163 / 200) train loss: 0.759217; val loss: 3.553211\n",
      "(Epoch 164 / 200) train loss: 0.765986; val loss: 3.611205\n",
      "(Epoch 165 / 200) train loss: 0.727754; val loss: 3.613702\n",
      "(Epoch 166 / 200) train loss: 0.755765; val loss: 3.593781\n",
      "(Epoch 167 / 200) train loss: 0.752359; val loss: 3.538071\n",
      "(Epoch 168 / 200) train loss: 0.743695; val loss: 3.544794\n",
      "(Epoch 169 / 200) train loss: 0.748127; val loss: 3.603302\n",
      "(Epoch 170 / 200) train loss: 0.743068; val loss: 3.684015\n",
      "(Epoch 171 / 200) train loss: 0.735075; val loss: 3.653427\n",
      "(Epoch 172 / 200) train loss: 0.724139; val loss: 3.598059\n",
      "(Epoch 173 / 200) train loss: 0.749632; val loss: 3.562057\n",
      "(Epoch 174 / 200) train loss: 0.765061; val loss: 3.605037\n",
      "(Epoch 175 / 200) train loss: 0.722875; val loss: 3.715893\n",
      "(Epoch 176 / 200) train loss: 0.797659; val loss: 3.706326\n",
      "(Epoch 177 / 200) train loss: 0.789018; val loss: 3.634293\n",
      "(Epoch 178 / 200) train loss: 0.746227; val loss: 3.579176\n",
      "(Epoch 179 / 200) train loss: 0.792949; val loss: 3.604757\n",
      "(Epoch 180 / 200) train loss: 0.791072; val loss: 3.697885\n",
      "(Epoch 181 / 200) train loss: 0.845941; val loss: 3.703607\n",
      "(Epoch 182 / 200) train loss: 0.745932; val loss: 3.681941\n",
      "(Epoch 183 / 200) train loss: 0.822409; val loss: 3.672034\n",
      "(Epoch 184 / 200) train loss: 0.810230; val loss: 3.674417\n",
      "(Epoch 185 / 200) train loss: 0.776456; val loss: 3.703373\n",
      "(Epoch 186 / 200) train loss: 0.805246; val loss: 3.723800\n",
      "(Epoch 187 / 200) train loss: 0.784854; val loss: 3.679603\n",
      "(Epoch 188 / 200) train loss: 0.751005; val loss: 3.633942\n",
      "(Epoch 189 / 200) train loss: 0.754493; val loss: 3.583627\n",
      "(Epoch 190 / 200) train loss: 0.748224; val loss: 3.543053\n",
      "(Epoch 191 / 200) train loss: 0.787536; val loss: 3.582436\n",
      "(Epoch 192 / 200) train loss: 0.753186; val loss: 3.661224\n",
      "(Epoch 193 / 200) train loss: 0.803974; val loss: 3.682860\n",
      "(Epoch 194 / 200) train loss: 0.776580; val loss: 3.681111\n",
      "(Epoch 195 / 200) train loss: 0.755372; val loss: 3.627463\n",
      "(Epoch 196 / 200) train loss: 0.758526; val loss: 3.601456\n",
      "(Epoch 197 / 200) train loss: 0.762015; val loss: 3.686017\n",
      "(Epoch 198 / 200) train loss: 0.770078; val loss: 3.735699\n",
      "(Epoch 199 / 200) train loss: 0.773140; val loss: 3.711992\n",
      "(Epoch 200 / 200) train loss: 0.803532; val loss: 3.633830\n"
     ]
    }
   ],
   "source": [
    "from exercise_code.networks import MyOwnNetwork\n",
    "\n",
    "num_layer = 2\n",
    "epochs = 200\n",
    "reg = 0.1\n",
    "num_samples = 10\n",
    "\n",
    "model = ClassificationNet(num_layer=num_layer, reg=reg)\n",
    "# model = MyOwnNetwork()\n",
    "\n",
    "loss = CrossEntropyFromLogits()\n",
    "\n",
    "# Make a new data loader with a our num_samples training image\n",
    "overfit_dataset = ImageFolderDataset(\n",
    "    mode='train',\n",
    "    root=cifar_root, \n",
    "    download_url=download_url,\n",
    "    transform=compose_transform,\n",
    "    limit_files=num_samples\n",
    ")\n",
    "dataloaders['train_overfit_10samples'] = DataLoader(\n",
    "    dataset=overfit_dataset,\n",
    "    batch_size=batch_size,\n",
    "    shuffle=True,\n",
    "    drop_last=False,\n",
    ")\n",
    "\n",
    "solver = Solver(model, dataloaders['train_overfit_10samples'], dataloaders['val_500files'], \n",
    "                learning_rate=1e-3, loss_func=loss, optimizer=Adam)\n",
    "\n",
    "solver.train(epochs=epochs)"
   ]
  },
  {
   "cell_type": "code",
   "execution_count": 27,
   "metadata": {},
   "outputs": [
    {
     "data": {
      "image/png": "[encoded data removed]",
      "text/plain": [
       "<Figure size 432x288 with 1 Axes>"
      ]
     },
     "metadata": {
      "needs_background": "light"
     },
     "output_type": "display_data"
    }
   ],
   "source": [
    "plt.title('Loss curves')\n",
    "plt.plot(solver.train_loss_history, '-', label='train')\n",
    "plt.plot(solver.val_loss_history, '-', label='val')\n",
    "plt.legend(loc='lower right')\n",
    "plt.xlabel('Iteration')\n",
    "plt.show()"
   ]
  },
  {
   "cell_type": "code",
   "execution_count": 28,
   "metadata": {},
   "outputs": [
    {
     "name": "stdout",
     "output_type": "stream",
     "text": [
      "Training accuray: 1.00000\n",
      "Validation accuray: 0.07000\n"
     ]
    }
   ],
   "source": [
    "print(\"Training accuray: %.5f\" % (solver.get_dataset_accuracy(dataloaders['train_overfit_10samples'])))\n",
    "print(\"Validation accuray: %.5f\" % (solver.get_dataset_accuracy(dataloaders['val_500files'])))"
   ]
  },
  {
   "cell_type": "markdown",
   "metadata": {},
   "source": [
    "If you're overfitting the training data, that means the network's implementation is correct. However, as you have more samples to overfit, your accuracy will be way lower. You can increase the number of epochs above to achieve better results.\n",
    "\n",
    "Now let's try to feed all the training and validation data into the network, but this time we set the same hyperparameters for 2-layer and 5-layer networks, and compare the different behaviors.\n",
    "\n",
    "__Note__: This may take about 1 min for each epoch as the training set is quite large. For convenience, we only train on 1000 images for now but use the full validation set."
   ]
  },
  {
   "cell_type": "code",
   "execution_count": 29,
   "metadata": {},
   "outputs": [
    {
     "name": "stdout",
     "output_type": "stream",
     "text": [
      "(Epoch 1 / 5) train loss: 2.305701; val loss: 2.305666\n",
      "(Epoch 2 / 5) train loss: 2.278313; val loss: 2.217917\n",
      "(Epoch 3 / 5) train loss: 2.229720; val loss: 2.238025\n",
      "(Epoch 4 / 5) train loss: 2.225433; val loss: 2.224318\n",
      "(Epoch 5 / 5) train loss: 2.221113; val loss: 2.223895\n"
     ]
    }
   ],
   "source": [
    "from exercise_code.networks import MyOwnNetwork\n",
    "\n",
    "num_layer = 2\n",
    "epochs = 5\n",
    "reg = 0.01\n",
    "\n",
    "# Make a new data loader with 1000 training samples\n",
    "num_samples = 1000\n",
    "overfit_dataset = ImageFolderDataset(\n",
    "    mode='train',\n",
    "    root=cifar_root, \n",
    "    download_url=download_url,\n",
    "    transform=compose_transform,\n",
    "    limit_files=num_samples\n",
    ")\n",
    "dataloaders['train_small'] = DataLoader(\n",
    "    dataset=overfit_dataset,\n",
    "    batch_size=batch_size,\n",
    "    shuffle=True,\n",
    "    drop_last=False,\n",
    ")\n",
    "\n",
    "\n",
    "# Change here if you want to use the full training set\n",
    "use_full_training_set = False\n",
    "if not use_full_training_set:\n",
    "    train_loader = dataloaders['train_small']\n",
    "else:\n",
    "    train_loader = dataloaders['train']\n",
    "    \n",
    "\n",
    "model = ClassificationNet(num_layer=num_layer, reg=reg)\n",
    "# model = MyOwnNetwork()\n",
    "\n",
    "loss = CrossEntropyFromLogits()\n",
    "\n",
    "solver = Solver(model, train_loader, dataloaders['val'], \n",
    "                learning_rate=1e-3, loss_func=loss, optimizer=Adam)\n",
    "\n",
    "solver.train(epochs=epochs)"
   ]
  },
  {
   "cell_type": "code",
   "execution_count": 30,
   "metadata": {},
   "outputs": [
    {
     "data": {
      "image/png": "[encoded data removed]",
      "text/plain": [
       "<Figure size 432x288 with 1 Axes>"
      ]
     },
     "metadata": {
      "needs_background": "light"
     },
     "output_type": "display_data"
    }
   ],
   "source": [
    "plt.title('Loss curves')\n",
    "plt.plot(solver.train_loss_history, '-', label='train')\n",
    "plt.plot(solver.val_loss_history, '-', label='val')\n",
    "plt.legend(loc='lower right')\n",
    "plt.xlabel('Iteration')\n",
    "plt.show()"
   ]
  },
  {
   "cell_type": "code",
   "execution_count": 31,
   "metadata": {},
   "outputs": [
    {
     "name": "stdout",
     "output_type": "stream",
     "text": [
      "Training accuray: 0.31400\n",
      "Validation accuray: 0.25631\n"
     ]
    }
   ],
   "source": [
    "print(\"Training accuray: %.5f\" % (solver.get_dataset_accuracy(train_loader)))\n",
    "print(\"Validation accuray: %.5f\" % (solver.get_dataset_accuracy(dataloaders['val'])))"
   ]
  },
  {
   "cell_type": "code",
   "execution_count": 32,
   "metadata": {},
   "outputs": [
    {
     "name": "stdout",
     "output_type": "stream",
     "text": [
      "(Epoch 1 / 5) train loss: 2.305912; val loss: 2.305979\n",
      "(Epoch 2 / 5) train loss: 2.327428; val loss: 2.308302\n",
      "(Epoch 3 / 5) train loss: 2.318951; val loss: 2.320646\n",
      "(Epoch 4 / 5) train loss: 2.313579; val loss: 2.323224\n",
      "(Epoch 5 / 5) train loss: 2.318441; val loss: 2.314183\n"
     ]
    }
   ],
   "source": [
    "from exercise_code.networks import MyOwnNetwork\n",
    "\n",
    "num_layer = 5\n",
    "epochs = 5\n",
    "reg = 0.01\n",
    "\n",
    "model = ClassificationNet(num_layer=num_layer, reg=reg)\n",
    "# model = MyOwnNetwork()\n",
    "\n",
    "# Change here if you want to use the full training set\n",
    "use_full_training_set = False\n",
    "if not use_full_training_set:\n",
    "    train_loader = dataloaders['train_small']\n",
    "else:\n",
    "    train_loader = dataloaders['train']\n",
    "\n",
    "loss = CrossEntropyFromLogits()\n",
    "\n",
    "solver = Solver(model, train_loader, dataloaders['val'], \n",
    "                learning_rate=1e-3, loss_func=loss, optimizer=Adam)\n",
    "\n",
    "solver.train(epochs=epochs)"
   ]
  },
  {
   "cell_type": "code",
   "execution_count": 33,
   "metadata": {},
   "outputs": [
    {
     "data": {
      "image/png": "[encoded data removed]",
      "text/plain": [
       "<Figure size 432x288 with 1 Axes>"
      ]
     },
     "metadata": {
      "needs_background": "light"
     },
     "output_type": "display_data"
    }
   ],
   "source": [
    "plt.title('Loss curves')\n",
    "plt.plot(solver.train_loss_history, '-', label='train')\n",
    "plt.plot(solver.val_loss_history, '-', label='val')\n",
    "plt.legend(loc='lower right')\n",
    "plt.xlabel('Iteration')\n",
    "plt.show()"
   ]
  },
  {
   "cell_type": "code",
   "execution_count": 34,
   "metadata": {},
   "outputs": [
    {
     "name": "stdout",
     "output_type": "stream",
     "text": [
      "Training accuray: 0.10500\n",
      "Validation accuray: 0.09826\n"
     ]
    }
   ],
   "source": [
    "print(\"Training accuray: %.5f\" % (solver.get_dataset_accuracy(train_loader)))\n",
    "print(\"Validation accuray: %.5f\" % (solver.get_dataset_accuracy(dataloaders['val'])))"
   ]
  },
  {
   "cell_type": "markdown",
   "metadata": {},
   "source": [
    "As you can see from above, the same hyperparameter set can decrease the loss for a 2-layer network, but for a 5-layer network, it hardly works.\n",
    "\n",
    "The steps above are already mentioned in the lectures as debugging steps before training a neural network. \n",
    "\n",
    "If you implement your own network, always make sure you do the steps above before tuning the hyperparameters as below. "
   ]
  },
  {
   "cell_type": "markdown",
   "metadata": {},
   "source": [
    "## Difficulty in tuning hyperparameters\n",
    "As can be seen through the results of training a larger network, training with whole data doesn't fit the training data as well as training with small number of training data. Besides, the architecture of neural network makes a difference, too. Small decisions on hyperparameters count. \n",
    "\n",
    "Usually, but not always, hyperparameters cannot be learned using well known gradient based methods (such as gradient descent), which are commonly employed to learn parameters. Besides, some hyperparameters can affect the structure of the model and the loss function.\n",
    "\n",
    "As mentioned before, hyperparameters need to be set before training. Tuning hyperparameters is hard, because you always have to try different combinations of the hyperparameters, train the network, do the validation and pick the best one. Besides, it is not guaranteed that you'll find the best combination.\n",
    "\n",
    "But let's take a more detailed look at hyperparameter tuning methods that are covered in the lecture."
   ]
  },
  {
   "cell_type": "markdown",
   "metadata": {},
   "source": [
    "# 3. Hyperparameter Tuning\n",
    "\n",
    "![alt text](https://blog.floydhub.com/content/images/2018/08/Screen-Shot-2018-08-22-at-17.59.25.png \"\")\n",
    "\n",
    "One of the main challenges in deep learning is finding the set of hyperparameters that performs best.\n",
    "\n",
    "So far, we have followed a manual approach by guessing hyperparameters, running the model, observing the result and maybe tweaking the hyperparameters based on this result. As you have probably noticed, this manual hyperparameter tuning is unstructured, inefficient and can become very tedious.\n",
    "\n",
    "\n",
    "A more systematic (and actually very simple) approach for hyperparameter tuning that you've already learned in the lecture  is implementing a **Grid Search**. \n",
    "\n",
    "\n",
    "\n",
    "## Grid Search\n",
    "Grid search is a simple and naive, yet effective method to automate the hyperparameter tuning:\n",
    "\n",
    "* First, you define the set of parameters you want to tune, e.g. $\\{learning\\_rate, regularization\\_strength\\}$.\n",
    "\n",
    "* For each hyperparameter, you then define a set of possible values, e.g. $learning\\_rate = \\{0.0001, 0.001, 0.01, 0.1\\}$.\n",
    "\n",
    "* Then, you train a model for every possible combination of these hyperparameter values and afterwards select the combination that works best (e.g. in terms of accuracy on your validation set).\n",
    "\n",
    "**Note**: to keep things simple for the beginning, it'll be enough to just focus on the hyperparameters `learning_rate` and `regularization_strength`  here, as in the example above."
   ]
  },
  {
   "cell_type": "markdown",
   "metadata": {},
   "source": [
    "<div class=\"alert alert-success\">\n",
    "    <h3>Task: Check code </h3>\n",
    "    <p> Check out our grid search implementation in <code>exercise_code/hyperparameter_tuning.py</code>. We show a simple for loop implementation and a more sophisticated one for multiple inputs. </p>\n",
    "</div>\n",
    "\n",
    "Let us try the Grid Search:"
   ]
  },
  {
   "cell_type": "code",
   "execution_count": 35,
   "metadata": {},
   "outputs": [
    {
     "name": "stdout",
     "output_type": "stream",
     "text": [
      "\n",
      "Evaluating Config #1 [of 3]:\n",
      " {'learning_rate': 0.01, 'reg': 0.0001}\n",
      "(Epoch 1 / 10) train loss: 2.302778; val loss: 2.302379\n",
      "(Epoch 2 / 10) train loss: 2.552138; val loss: 2.521233\n",
      "(Epoch 3 / 10) train loss: 2.757440; val loss: 2.813366\n",
      "(Epoch 4 / 10) train loss: 2.927510; val loss: 3.101604\n"
     ]
    },
    {
     "name": "stderr",
     "output_type": "stream",
     "text": [
      "/home/qwenzo/TUM/1st/I2DL/exercise_06/exercise_06_/exercise_code/networks/layer.py:67: RuntimeWarning: overflow encountered in exp\n",
      "  outputs = 1 / (1 + np.exp(-x))\n"
     ]
    },
    {
     "name": "stdout",
     "output_type": "stream",
     "text": [
      "(Epoch 5 / 10) train loss: 2.991758; val loss: 3.155322\n",
      "(Epoch 6 / 10) train loss: 3.174735; val loss: 3.099498\n",
      "Stopping early at epoch 6!\n",
      "\n",
      "Evaluating Config #2 [of 3]:\n",
      " {'learning_rate': 0.001, 'reg': 0.0001}\n",
      "(Epoch 1 / 10) train loss: 2.302776; val loss: 2.302850\n",
      "(Epoch 2 / 10) train loss: 2.188627; val loss: 2.018576\n",
      "(Epoch 3 / 10) train loss: 1.999532; val loss: 1.933551\n",
      "(Epoch 4 / 10) train loss: 1.898786; val loss: 1.913175\n",
      "(Epoch 5 / 10) train loss: 1.840901; val loss: 1.891802\n",
      "(Epoch 6 / 10) train loss: 1.769770; val loss: 1.883313\n",
      "(Epoch 7 / 10) train loss: 1.721099; val loss: 1.993213\n",
      "(Epoch 8 / 10) train loss: 1.649275; val loss: 1.932815\n",
      "(Epoch 9 / 10) train loss: 1.586518; val loss: 1.902852\n",
      "(Epoch 10 / 10) train loss: 1.531237; val loss: 1.931757\n",
      "\n",
      "Evaluating Config #3 [of 3]:\n",
      " {'learning_rate': 0.0001, 'reg': 0.0001}\n",
      "(Epoch 1 / 10) train loss: 2.302742; val loss: 2.302700\n",
      "(Epoch 2 / 10) train loss: 2.286272; val loss: 2.243366\n",
      "(Epoch 3 / 10) train loss: 2.212058; val loss: 2.153702\n",
      "(Epoch 4 / 10) train loss: 2.136847; val loss: 2.086200\n",
      "(Epoch 5 / 10) train loss: 2.075843; val loss: 2.034195\n",
      "(Epoch 6 / 10) train loss: 2.025140; val loss: 1.996724\n",
      "(Epoch 7 / 10) train loss: 1.980983; val loss: 1.980872\n",
      "(Epoch 8 / 10) train loss: 1.941590; val loss: 1.947735\n",
      "(Epoch 9 / 10) train loss: 1.904624; val loss: 1.928624\n",
      "(Epoch 10 / 10) train loss: 1.870713; val loss: 1.909161\n",
      "\n",
      "Search done. Best Val Loss = 1.8833132041753922\n",
      "Best Config: {'learning_rate': 0.001, 'reg': 0.0001}\n"
     ]
    }
   ],
   "source": [
    "from exercise_code.networks import MyOwnNetwork\n",
    "\n",
    "# Specify the used network\n",
    "model_class = ClassificationNet\n",
    "\n",
    "from exercise_code import hyperparameter_tuning\n",
    "best_model, results = hyperparameter_tuning.grid_search(\n",
    "    dataloaders['train_small'], dataloaders['val_500files'],\n",
    "    grid_search_spaces = {\n",
    "        \"learning_rate\": [1e-2, 1e-3, 1e-4], \n",
    "        \"reg\": [1e-4]\n",
    "    },\n",
    "    model_class=model_class,\n",
    "    epochs=10, patience=5)"
   ]
  },
  {
   "cell_type": "markdown",
   "metadata": {},
   "source": [
    "From the results of your grid search, you might already have found some hyperparameter combinations that work better than others. A common practice is to now repeat the grid search on a more narrow domain centered around the parameters that worked best. \n",
    "\n",
    "**Conclusion Grid Search**\n",
    "\n",
    "With grid search we now have automated the hyperparameter tuning to a certain degree. Another advantage is that since the training of all models are independent of each other, you can parallelize the grid search, i.e.,  try out different hyperparameter configurations in parallel on different machines.\n",
    "\n",
    "However, as you have probably noticed, there is one big problem with this approach: the number of possible combinations to try out grows exponentially with the number of hyperparameters (\"curse of dimensionality\"). As we add more hyperparameters to the grid search, the search space will explode in time complexity, making this strategy unfeasible.\n",
    "\n",
    "Especially when your search space contains more than 3 or 4 dimensions, it is often better to use another, similar hyperparameter tuning method that you've already learned about: random search."
   ]
  },
  {
   "cell_type": "markdown",
   "metadata": {},
   "source": [
    "## Random Search\n",
    "Random search is very similar to grid search, with the only difference, that instead of providing specific values for every hyperparameter, you only define a range for each hyperparameter - then, the values are sampled randomly from the provided ranges.\n",
    "\n",
    "![alt text](https://i.stack.imgur.com/cIDuR.png \"\")\n",
    "\n",
    "The figure above illustrates the difference in the hyperparameter space exploration between grid search and random search: assume you have 2 hyperparameters with each 3 values. Running a grid search results in training $3^2=9$ different models - but in the end, you've just tired out 3 values for each parameter. For random search on the other hand, after training 9 models you'll have tried out 9 different values for each hyperparameter, which often leads much faster to good results.\n",
    "\n",
    "To get a deeper understanding of random search and why it is more efficient than grid search, you should definitely check out this paper: http://www.jmlr.org/papers/volume13/bergstra12a/bergstra12a.pdf."
   ]
  },
  {
   "cell_type": "markdown",
   "metadata": {},
   "source": [
    "<div class=\"alert alert-success\">\n",
    "    <h3>Task: Check code </h3>\n",
    "    <p> Check out our random search implementation in <code>exercise_code/hyperparameter_tuning.py</code>. </p>\n",
    "    <p> <b>Note:</b> Regarding the sample space of each parameter, think about the scale for which it makes most sense to sample in. For example the learning rate is usually sampled on a logarithmic scale!</p>\n",
    "</div>\n",
    "\n",
    "Let us apply a random search in the following cell:"
   ]
  },
  {
   "cell_type": "code",
   "execution_count": 36,
   "metadata": {},
   "outputs": [
    {
     "name": "stdout",
     "output_type": "stream",
     "text": [
      "\n",
      "Evaluating Config #1 [of 2]:\n",
      " {'learning_rate': 2.467340139407516e-06, 'reg': 3.250777547662122e-05, 'loss_func': <exercise_code.networks.loss.CrossEntropyFromLogits object at 0x7efd8416c430>}\n",
      "(Epoch 1 / 20) train loss: 2.302925; val loss: 2.302407\n",
      "(Epoch 2 / 20) train loss: 2.302755; val loss: 2.301946\n",
      "(Epoch 3 / 20) train loss: 2.302189; val loss: 2.301531\n",
      "(Epoch 4 / 20) train loss: 2.301612; val loss: 2.301026\n",
      "(Epoch 5 / 20) train loss: 2.301021; val loss: 2.300513\n",
      "(Epoch 6 / 20) train loss: 2.300380; val loss: 2.299916\n",
      "(Epoch 7 / 20) train loss: 2.299668; val loss: 2.299232\n",
      "(Epoch 8 / 20) train loss: 2.298893; val loss: 2.298514\n",
      "(Epoch 9 / 20) train loss: 2.298027; val loss: 2.297706\n",
      "(Epoch 10 / 20) train loss: 2.297075; val loss: 2.296650\n",
      "(Epoch 11 / 20) train loss: 2.296023; val loss: 2.295639\n",
      "(Epoch 12 / 20) train loss: 2.294914; val loss: 2.294437\n",
      "(Epoch 13 / 20) train loss: 2.293679; val loss: 2.293227\n",
      "(Epoch 14 / 20) train loss: 2.292379; val loss: 2.291772\n",
      "(Epoch 15 / 20) train loss: 2.290976; val loss: 2.290335\n",
      "(Epoch 16 / 20) train loss: 2.289485; val loss: 2.288672\n",
      "(Epoch 17 / 20) train loss: 2.287923; val loss: 2.287022\n",
      "(Epoch 18 / 20) train loss: 2.286304; val loss: 2.285221\n",
      "(Epoch 19 / 20) train loss: 2.284608; val loss: 2.283335\n",
      "(Epoch 20 / 20) train loss: 2.282852; val loss: 2.281393\n",
      "\n",
      "Evaluating Config #2 [of 2]:\n",
      " {'learning_rate': 3.0349628426362694e-06, 'reg': 3.048625410737165e-06, 'loss_func': <exercise_code.networks.loss.CrossEntropyFromLogits object at 0x7efd8416c430>}\n",
      "(Epoch 1 / 20) train loss: 2.302516; val loss: 2.302368\n",
      "(Epoch 2 / 20) train loss: 2.302316; val loss: 2.301868\n",
      "(Epoch 3 / 20) train loss: 2.301649; val loss: 2.301302\n",
      "(Epoch 4 / 20) train loss: 2.300950; val loss: 2.300618\n",
      "(Epoch 5 / 20) train loss: 2.300187; val loss: 2.299959\n",
      "(Epoch 6 / 20) train loss: 2.299364; val loss: 2.299192\n",
      "(Epoch 7 / 20) train loss: 2.298388; val loss: 2.298294\n",
      "(Epoch 8 / 20) train loss: 2.297319; val loss: 2.297243\n",
      "(Epoch 9 / 20) train loss: 2.296072; val loss: 2.296073\n",
      "(Epoch 10 / 20) train loss: 2.294686; val loss: 2.294643\n",
      "(Epoch 11 / 20) train loss: 2.293163; val loss: 2.293103\n",
      "(Epoch 12 / 20) train loss: 2.291479; val loss: 2.291414\n",
      "(Epoch 13 / 20) train loss: 2.289669; val loss: 2.289511\n",
      "(Epoch 14 / 20) train loss: 2.287733; val loss: 2.287516\n",
      "(Epoch 15 / 20) train loss: 2.285698; val loss: 2.285341\n",
      "(Epoch 16 / 20) train loss: 2.283538; val loss: 2.283116\n",
      "(Epoch 17 / 20) train loss: 2.281293; val loss: 2.280705\n",
      "(Epoch 18 / 20) train loss: 2.278992; val loss: 2.278102\n",
      "(Epoch 19 / 20) train loss: 2.276608; val loss: 2.275553\n",
      "(Epoch 20 / 20) train loss: 2.274168; val loss: 2.272901\n",
      "\n",
      "Search done. Best Val Loss = 2.2729006224533412\n",
      "Best Config: {'learning_rate': 3.0349628426362694e-06, 'reg': 3.048625410737165e-06, 'loss_func': <exercise_code.networks.loss.CrossEntropyFromLogits object at 0x7efd8416c430>}\n"
     ]
    }
   ],
   "source": [
    "from exercise_code.hyperparameter_tuning import random_search\n",
    "from exercise_code.networks import MyOwnNetwork\n",
    "\n",
    "# Specify the used network\n",
    "model_class = ClassificationNet\n",
    "\n",
    "best_model, results = random_search(\n",
    "    dataloaders['train_small'], dataloaders['val_500files'],\n",
    "    random_search_spaces = {\n",
    "        \"learning_rate\": ([1e-2, 1e-6], 'log'),\n",
    "        \"reg\": ([1e-3, 1e-7], \"log\"),\n",
    "        \"loss_func\": ([CrossEntropyFromLogits()], \"item\")\n",
    "    },\n",
    "    model_class=model_class,\n",
    "    num_search = 2, epochs=20, patience=5)"
   ]
  },
  {
   "cell_type": "markdown",
   "metadata": {},
   "source": [
    "Now it's time to run it with the whole dataset, and let it search for a few hours for a nice configuration. \n",
    "\n",
    "However, to save some time, let's first implement an **early-stopping** mechanism, that you also already know from the lecture."
   ]
  },
  {
   "cell_type": "markdown",
   "metadata": {},
   "source": [
    "## Early Stopping\n",
    "\n",
    "By now you've already seen a lot of training curves:\n",
    "\n",
    "<img src=http://fouryears.eu/wp-content/uploads/2017/12/early_stopping.png></img>\n",
    "\n",
    "Usually, at some point the validation loss goes up again, which is a sign that we're overfitting to our training data. Since it actually doesn't make any sense to train further at this point, it's common practice to apply \"early stopping\", i.e., cancel the training process when the validation loss doesn't improve anymore. The nice thing about this concept is, that not only it improves generalization through the prevention of overfitting, but also it saves us a lot of time - one of our most valuable resources in deep learning.\n",
    "\n",
    "Since there are natural fluctuations in the validation loss, you usually don't cancel the training process right at the first epoch when the validation-loss increases, but instead, you wait for some epochs (specified by the `patience` parameter) and if the loss still doesn't improve, we stop."
   ]
  },
  {
   "cell_type": "markdown",
   "metadata": {},
   "source": [
    "<div class=\"alert alert-success\">\n",
    "    <h3>Task: Check code </h3>\n",
    "    <p> Take a look at the implement of early stopping mechanism in the <code>exercise_code/solver.py</code> file. </p>\n",
    "</div>"
   ]
  },
  {
   "cell_type": "markdown",
   "metadata": {},
   "source": [
    "## Let's find the perfect model!\n",
    "\n",
    "You've now set everything up to start training your model and finding a nice set of hyperparameters using a combination of grid or random search!\n",
    "\n",
    "Since we'll now be training with a much larger number of samples, you should be aware that this process will definitely take some time. So be prepared to let your machine run for a while. \n",
    "\n",
    "You don't have to use the whole dataset at the beginning, instead you can also use a medium large subset of the samples. Also, you don't need to train for a large number of epochs - as mentioned above: We first want to get an overview about our hyperparameters."
   ]
  },
  {
   "cell_type": "markdown",
   "metadata": {},
   "source": [
    "<div class=\"alert alert-info\">\n",
    "    <h3>Task: Hyperparameters Tunning & Model Training </h3>\n",
    "        <p> Now, it is your turn to do the hyperparamater tuning. In the cell below, you can use the <code>random_search</code> function to find a good choice of parameters. Put in some reasonable ranges for the hyperparameters and evaluate them.\n",
    "    <p> <b>Note:</b> At the beginning, it's a good approach to first do a coarse random search across a <b> wide range of values</b> to find promising sub-ranges of your parameter space and use <b> a medium large subset of the dataset </b>instead the whole as well. Afterwards, you can zoom in to these ranges and do another random search (or grid search) to finetune the configuration. Use the cell below to play around and find good hyperparameters for your model!</p>\n",
    "        <p> Finally, once you've found some promising hyperparameters (or narrowed them down to promising subranges), it's time to utilize these hyperparameters to train your network on the whole dataset for a large number of epochs so that your own model can reach an acceptable performance. \n",
    "        <p> <b>Hint:</b> You may use a <code>Solver</code> class we provided before or directly use the <code>random_search</code> function (as you can also monitor the loss here) for model training.\n",
    "</div>"
   ]
  },
  {
   "cell_type": "code",
   "execution_count": 51,
   "metadata": {},
   "outputs": [
    {
     "name": "stdout",
     "output_type": "stream",
     "text": [
      "\n",
      "Evaluating Config #1 [of 2]:\n",
      " {'learning_rate': 3.799063633849677e-05, 'reg': 0.0007229735652555246, 'loss_func': <exercise_code.networks.loss.CrossEntropyFromLogits object at 0x7efd84502040>, 'activation': <exercise_code.networks.layer.LeakyRelu object at 0x7efd84502df0>}\n",
      "(Epoch 1 / 20) train loss: 2.302794; val loss: 2.302767\n",
      "(Epoch 2 / 20) train loss: 2.265009; val loss: 2.169896\n",
      "(Epoch 3 / 20) train loss: 2.121456; val loss: 2.031913\n",
      "(Epoch 4 / 20) train loss: 2.023762; val loss: 1.964750\n",
      "(Epoch 5 / 20) train loss: 1.952573; val loss: 1.909858\n",
      "(Epoch 6 / 20) train loss: 1.893317; val loss: 1.876161\n",
      "(Epoch 7 / 20) train loss: 1.850113; val loss: 1.866989\n",
      "(Epoch 8 / 20) train loss: 1.812514; val loss: 1.854208\n",
      "(Epoch 9 / 20) train loss: 1.779247; val loss: 1.835882\n",
      "(Epoch 10 / 20) train loss: 1.749968; val loss: 1.825116\n",
      "(Epoch 11 / 20) train loss: 1.721946; val loss: 1.805675\n",
      "(Epoch 12 / 20) train loss: 1.696290; val loss: 1.805581\n",
      "(Epoch 13 / 20) train loss: 1.670773; val loss: 1.802906\n",
      "(Epoch 14 / 20) train loss: 1.646051; val loss: 1.794768\n",
      "(Epoch 15 / 20) train loss: 1.620614; val loss: 1.790338\n",
      "(Epoch 16 / 20) train loss: 1.596315; val loss: 1.788395\n",
      "(Epoch 17 / 20) train loss: 1.572444; val loss: 1.788269\n",
      "(Epoch 18 / 20) train loss: 1.548812; val loss: 1.795058\n",
      "(Epoch 19 / 20) train loss: 1.526652; val loss: 1.806212\n",
      "(Epoch 20 / 20) train loss: 1.503253; val loss: 1.792085\n",
      "\n",
      "Evaluating Config #2 [of 2]:\n",
      " {'learning_rate': 1.777574058526733e-05, 'reg': 2.4839816074305114e-06, 'loss_func': <exercise_code.networks.loss.CrossEntropyFromLogits object at 0x7efd84502040>, 'activation': <exercise_code.networks.layer.LeakyRelu object at 0x7efd84502df0>}\n",
      "(Epoch 1 / 20) train loss: 2.302586; val loss: 2.302609\n",
      "(Epoch 2 / 20) train loss: 2.290824; val loss: 2.256784\n",
      "(Epoch 3 / 20) train loss: 2.219543; val loss: 2.151798\n",
      "(Epoch 4 / 20) train loss: 2.141357; val loss: 2.077919\n",
      "(Epoch 5 / 20) train loss: 2.086283; val loss: 2.032097\n",
      "(Epoch 6 / 20) train loss: 2.043516; val loss: 1.996607\n",
      "(Epoch 7 / 20) train loss: 2.007403; val loss: 1.971615\n",
      "(Epoch 8 / 20) train loss: 1.974233; val loss: 1.947929\n",
      "(Epoch 9 / 20) train loss: 1.945720; val loss: 1.930702\n",
      "(Epoch 10 / 20) train loss: 1.917612; val loss: 1.911676\n",
      "(Epoch 11 / 20) train loss: 1.893015; val loss: 1.897363\n",
      "(Epoch 12 / 20) train loss: 1.870528; val loss: 1.884171\n",
      "(Epoch 13 / 20) train loss: 1.849827; val loss: 1.871962\n",
      "(Epoch 14 / 20) train loss: 1.830717; val loss: 1.860558\n",
      "(Epoch 15 / 20) train loss: 1.812897; val loss: 1.853049\n",
      "(Epoch 16 / 20) train loss: 1.796381; val loss: 1.846616\n",
      "(Epoch 17 / 20) train loss: 1.780443; val loss: 1.839626\n",
      "(Epoch 18 / 20) train loss: 1.765746; val loss: 1.832583\n",
      "(Epoch 19 / 20) train loss: 1.751630; val loss: 1.824735\n",
      "(Epoch 20 / 20) train loss: 1.737307; val loss: 1.819654\n",
      "\n",
      "Search done. Best Val Loss = 1.7882688499787471\n",
      "Best Config: {'learning_rate': 3.799063633849677e-05, 'reg': 0.0007229735652555246, 'loss_func': <exercise_code.networks.loss.CrossEntropyFromLogits object at 0x7efd84502040>, 'activation': <exercise_code.networks.layer.LeakyRelu object at 0x7efd84502df0>}\n"
     ]
    }
   ],
   "source": [
    "from exercise_code.networks import MyOwnNetwork\n",
    "from exercise_code.networks.layer import Tanh, LeakyRelu\n",
    "#best_model = ClassificationNet()\n",
    "best_model, results = random_search(\n",
    "    dataloaders['train_small'], dataloaders['val_500files'],\n",
    "    random_search_spaces = {\n",
    "        \"learning_rate\": ([1e-2, 1e-6], 'log'),\n",
    "        \"reg\": ([1e-3, 1e-7], \"log\"),\n",
    "        \"loss_func\": ([CrossEntropyFromLogits()], \"item\"),\n",
    "        \"activation\": ([Tanh(), LeakyRelu()], \"item\"),\n",
    "    },\n",
    "    model_class = model_class,\n",
    "    num_search = 2, epochs=20, patience=5)\n",
    "# {'learning_rate': 3.799063633849677e-05, \n",
    "# 'reg': 0.0007229735652555246, \n",
    "# 'loss_func': <exercise_code.networks.loss.CrossEntropyFromLogits object at 0x7efd84502040>, \n",
    "#  'activation': <exercise_code.networks.layer.LeakyRelu object at 0x7efd84502df0>}"
   ]
  },
  {
   "cell_type": "code",
   "execution_count": 66,
   "metadata": {},
   "outputs": [
    {
     "name": "stdout",
     "output_type": "stream",
     "text": [
      "\n",
      "Evaluating Config #1 [of 3]:\n",
      " {'learning_rate': 3.273281804839363e-05, 'reg': 1.076902083389855e-05, 'loss_func': <exercise_code.networks.loss.CrossEntropyFromLogits object at 0x7efd7dd9d7f0>, 'activation': <exercise_code.networks.layer.LeakyRelu object at 0x7efd7dd9d790>}\n",
      "(Epoch 1 / 20) train loss: 2.302589; val loss: 2.302612\n",
      "(Epoch 2 / 20) train loss: 2.269222; val loss: 2.177807\n",
      "(Epoch 3 / 20) train loss: 2.140512; val loss: 2.047401\n",
      "(Epoch 4 / 20) train loss: 2.044691; val loss: 1.970585\n",
      "(Epoch 5 / 20) train loss: 1.972150; val loss: 1.913336\n",
      "(Epoch 6 / 20) train loss: 1.915807; val loss: 1.880442\n",
      "(Epoch 7 / 20) train loss: 1.869974; val loss: 1.861540\n",
      "(Epoch 8 / 20) train loss: 1.832630; val loss: 1.846665\n",
      "(Epoch 9 / 20) train loss: 1.799449; val loss: 1.838867\n",
      "(Epoch 10 / 20) train loss: 1.771641; val loss: 1.821502\n",
      "(Epoch 11 / 20) train loss: 1.745183; val loss: 1.810560\n",
      "(Epoch 12 / 20) train loss: 1.720769; val loss: 1.802683\n",
      "(Epoch 13 / 20) train loss: 1.695293; val loss: 1.795058\n",
      "(Epoch 14 / 20) train loss: 1.673135; val loss: 1.794011\n",
      "(Epoch 15 / 20) train loss: 1.650051; val loss: 1.792280\n",
      "(Epoch 16 / 20) train loss: 1.627833; val loss: 1.784965\n",
      "(Epoch 17 / 20) train loss: 1.605035; val loss: 1.779801\n",
      "(Epoch 18 / 20) train loss: 1.583041; val loss: 1.786988\n",
      "(Epoch 19 / 20) train loss: 1.561989; val loss: 1.787750\n",
      "(Epoch 20 / 20) train loss: 1.538459; val loss: 1.771402\n",
      "\n",
      "Evaluating Config #2 [of 3]:\n",
      " {'learning_rate': 3.176544851796348e-05, 'reg': 4.669195035982148e-05, 'loss_func': <exercise_code.networks.loss.CrossEntropyFromLogits object at 0x7efd7dd9d7f0>, 'activation': <exercise_code.networks.layer.LeakyRelu object at 0x7efd7dd9d790>}\n",
      "(Epoch 1 / 20) train loss: 2.302622; val loss: 2.302588\n",
      "(Epoch 2 / 20) train loss: 2.275320; val loss: 2.197735\n",
      "(Epoch 3 / 20) train loss: 2.151664; val loss: 2.058894\n",
      "(Epoch 4 / 20) train loss: 2.053199; val loss: 1.972678\n",
      "(Epoch 5 / 20) train loss: 1.985273; val loss: 1.925902\n",
      "(Epoch 6 / 20) train loss: 1.930722; val loss: 1.890716\n",
      "(Epoch 7 / 20) train loss: 1.885790; val loss: 1.865981\n",
      "(Epoch 8 / 20) train loss: 1.851305; val loss: 1.846200\n",
      "(Epoch 9 / 20) train loss: 1.819710; val loss: 1.830743\n",
      "(Epoch 10 / 20) train loss: 1.791508; val loss: 1.822723\n",
      "(Epoch 11 / 20) train loss: 1.764074; val loss: 1.807325\n",
      "(Epoch 12 / 20) train loss: 1.741098; val loss: 1.805004\n",
      "(Epoch 13 / 20) train loss: 1.716768; val loss: 1.800192\n",
      "(Epoch 14 / 20) train loss: 1.692197; val loss: 1.789388\n",
      "(Epoch 15 / 20) train loss: 1.671106; val loss: 1.791824\n",
      "(Epoch 16 / 20) train loss: 1.648266; val loss: 1.785848\n",
      "(Epoch 17 / 20) train loss: 1.628079; val loss: 1.784748\n",
      "(Epoch 18 / 20) train loss: 1.606326; val loss: 1.782478\n",
      "(Epoch 19 / 20) train loss: 1.585239; val loss: 1.780783\n",
      "(Epoch 20 / 20) train loss: 1.564534; val loss: 1.787718\n",
      "\n",
      "Evaluating Config #3 [of 3]:\n",
      " {'learning_rate': 3.3885553853458035e-05, 'reg': 1.3161707226731816e-05, 'loss_func': <exercise_code.networks.loss.CrossEntropyFromLogits object at 0x7efd7dd9d7f0>, 'activation': <exercise_code.networks.layer.LeakyRelu object at 0x7efd7dd9d790>}\n",
      "(Epoch 1 / 20) train loss: 2.302605; val loss: 2.302569\n",
      "(Epoch 2 / 20) train loss: 2.266510; val loss: 2.172567\n",
      "(Epoch 3 / 20) train loss: 2.131427; val loss: 2.053324\n",
      "(Epoch 4 / 20) train loss: 2.038042; val loss: 1.986695\n",
      "(Epoch 5 / 20) train loss: 1.967816; val loss: 1.934961\n",
      "(Epoch 6 / 20) train loss: 1.912461; val loss: 1.903445\n",
      "(Epoch 7 / 20) train loss: 1.866013; val loss: 1.883961\n",
      "(Epoch 8 / 20) train loss: 1.829161; val loss: 1.860545\n",
      "(Epoch 9 / 20) train loss: 1.796250; val loss: 1.851272\n",
      "(Epoch 10 / 20) train loss: 1.767659; val loss: 1.829391\n",
      "(Epoch 11 / 20) train loss: 1.741336; val loss: 1.831274\n",
      "(Epoch 12 / 20) train loss: 1.716393; val loss: 1.815484\n",
      "(Epoch 13 / 20) train loss: 1.691029; val loss: 1.808545\n",
      "(Epoch 14 / 20) train loss: 1.669195; val loss: 1.805180\n",
      "(Epoch 15 / 20) train loss: 1.645000; val loss: 1.806535\n",
      "(Epoch 16 / 20) train loss: 1.622541; val loss: 1.796554\n",
      "(Epoch 17 / 20) train loss: 1.600884; val loss: 1.791848\n",
      "(Epoch 18 / 20) train loss: 1.578185; val loss: 1.781082\n",
      "(Epoch 19 / 20) train loss: 1.556721; val loss: 1.788802\n",
      "(Epoch 20 / 20) train loss: 1.535030; val loss: 1.782301\n",
      "\n",
      "Search done. Best Val Loss = 1.7714017347662945\n",
      "Best Config: {'learning_rate': 3.273281804839363e-05, 'reg': 1.076902083389855e-05, 'loss_func': <exercise_code.networks.loss.CrossEntropyFromLogits object at 0x7efd7dd9d7f0>, 'activation': <exercise_code.networks.layer.LeakyRelu object at 0x7efd7dd9d790>}\n"
     ]
    }
   ],
   "source": [
    "# {'learning_rate': 3.799063633849677e-05, \n",
    "# 'reg': 0.0007229735652555246, \n",
    "# 'loss_func': <exercise_code.networks.loss.CrossEntropyFromLogits object at 0x7efd84502040>, \n",
    "#  'activation': <exercise_code.networks.layer.LeakyRelu object at 0x7efd84502df0>}\n",
    "\n",
    "#try 2\n",
    "# Best Config: {'learning_rate': 3.2884823894005387e-05, \n",
    "#               'reg': 0.0001, \n",
    "#               'loss_func': <exercise_code.networks.loss.CrossEntropyFromLogits object at 0x7efd84509430>, \n",
    "#               'activation': <exercise_code.networks.layer.LeakyRelu object at 0x7efd84509940>}\n",
    "\n",
    "best_model, results = random_search(\n",
    "    dataloaders['train_small'], dataloaders['val_500files'],\n",
    "    random_search_spaces = {\n",
    "        \"learning_rate\": ([3.1e-5, 3.4e-5], 'log'),\n",
    "        \"reg\": ([1e-4, 1e-5], \"log\"),\n",
    "        \"loss_func\": ([CrossEntropyFromLogits()], \"item\"),\n",
    "        \"activation\": ([LeakyRelu()], \"item\"),\n",
    "    },\n",
    "    model_class = model_class,\n",
    "    num_search = 3, epochs=20, patience=5)"
   ]
  },
  {
   "cell_type": "code",
   "execution_count": 76,
   "metadata": {},
   "outputs": [
    {
     "name": "stdout",
     "output_type": "stream",
     "text": [
      "(Epoch 1 / 10) train loss: 2.302588; val loss: 2.302588\n",
      "(Epoch 2 / 10) train loss: 2.302593; val loss: 2.302587\n",
      "(Epoch 3 / 10) train loss: 2.302580; val loss: 2.302583\n",
      "(Epoch 4 / 10) train loss: 2.302568; val loss: 2.302580\n",
      "(Epoch 5 / 10) train loss: 2.302557; val loss: 2.302575\n"
     ]
    },
    {
     "ename": "KeyboardInterrupt",
     "evalue": "",
     "output_type": "error",
     "traceback": [
      "\u001b[0;31m---------------------------------------------------------------------------\u001b[0m",
      "\u001b[0;31mKeyboardInterrupt\u001b[0m                         Traceback (most recent call last)",
      "\u001b[0;32m<ipython-input-76-c38fcaa9e71f>\u001b[0m in \u001b[0;36m<module>\u001b[0;34m\u001b[0m\n\u001b[1;32m     15\u001b[0m solver = Solver(best_model, dataloaders['train_small'], dataloaders['val_500files'], \n\u001b[1;32m     16\u001b[0m                 learning_rate = lr, loss_func=loss, optimizer=Adam)\n\u001b[0;32m---> 17\u001b[0;31m \u001b[0msolver\u001b[0m\u001b[0;34m.\u001b[0m\u001b[0mtrain\u001b[0m\u001b[0;34m(\u001b[0m\u001b[0mepochs\u001b[0m\u001b[0;34m=\u001b[0m\u001b[0mepochs\u001b[0m\u001b[0;34m,\u001b[0m \u001b[0mpatience\u001b[0m\u001b[0;34m=\u001b[0m\u001b[0mpatience\u001b[0m\u001b[0;34m)\u001b[0m\u001b[0;34m\u001b[0m\u001b[0;34m\u001b[0m\u001b[0m\n\u001b[0m",
      "\u001b[0;32m~/TUM/1st/I2DL/exercise_06/exercise_06_/exercise_code/solver.py\u001b[0m in \u001b[0;36mtrain\u001b[0;34m(self, epochs, patience)\u001b[0m\n\u001b[1;32m    143\u001b[0m                 \u001b[0;31m# Update the model parameters.\u001b[0m\u001b[0;34m\u001b[0m\u001b[0;34m\u001b[0m\u001b[0;34m\u001b[0m\u001b[0m\n\u001b[1;32m    144\u001b[0m                 \u001b[0mvalidate\u001b[0m \u001b[0;34m=\u001b[0m \u001b[0mt\u001b[0m \u001b[0;34m==\u001b[0m \u001b[0;36m0\u001b[0m\u001b[0;34m\u001b[0m\u001b[0;34m\u001b[0m\u001b[0m\n\u001b[0;32m--> 145\u001b[0;31m                 \u001b[0mtrain_loss\u001b[0m \u001b[0;34m=\u001b[0m \u001b[0mself\u001b[0m\u001b[0;34m.\u001b[0m\u001b[0m_step\u001b[0m\u001b[0;34m(\u001b[0m\u001b[0mX\u001b[0m\u001b[0;34m,\u001b[0m \u001b[0my\u001b[0m\u001b[0;34m,\u001b[0m \u001b[0mvalidation\u001b[0m\u001b[0;34m=\u001b[0m\u001b[0mvalidate\u001b[0m\u001b[0;34m)\u001b[0m\u001b[0;34m\u001b[0m\u001b[0;34m\u001b[0m\u001b[0m\n\u001b[0m\u001b[1;32m    146\u001b[0m \u001b[0;34m\u001b[0m\u001b[0m\n\u001b[1;32m    147\u001b[0m                 \u001b[0mself\u001b[0m\u001b[0;34m.\u001b[0m\u001b[0mtrain_batch_loss\u001b[0m\u001b[0;34m.\u001b[0m\u001b[0mappend\u001b[0m\u001b[0;34m(\u001b[0m\u001b[0mtrain_loss\u001b[0m\u001b[0;34m)\u001b[0m\u001b[0;34m\u001b[0m\u001b[0;34m\u001b[0m\u001b[0m\n",
      "\u001b[0;32m~/TUM/1st/I2DL/exercise_06/exercise_06_/exercise_code/solver.py\u001b[0m in \u001b[0;36m_step\u001b[0;34m(self, X, y, validation)\u001b[0m\n\u001b[1;32m    117\u001b[0m             \u001b[0mself\u001b[0m\u001b[0;34m.\u001b[0m\u001b[0mopt\u001b[0m\u001b[0;34m.\u001b[0m\u001b[0mbackward\u001b[0m\u001b[0;34m(\u001b[0m\u001b[0my_pred\u001b[0m\u001b[0;34m,\u001b[0m \u001b[0my\u001b[0m\u001b[0;34m)\u001b[0m\u001b[0;34m\u001b[0m\u001b[0;34m\u001b[0m\u001b[0m\n\u001b[1;32m    118\u001b[0m             \u001b[0;31m# Update weights\u001b[0m\u001b[0;34m\u001b[0m\u001b[0;34m\u001b[0m\u001b[0;34m\u001b[0m\u001b[0m\n\u001b[0;32m--> 119\u001b[0;31m             \u001b[0mself\u001b[0m\u001b[0;34m.\u001b[0m\u001b[0mopt\u001b[0m\u001b[0;34m.\u001b[0m\u001b[0mstep\u001b[0m\u001b[0;34m(\u001b[0m\u001b[0;34m)\u001b[0m\u001b[0;34m\u001b[0m\u001b[0;34m\u001b[0m\u001b[0m\n\u001b[0m\u001b[1;32m    120\u001b[0m \u001b[0;34m\u001b[0m\u001b[0m\n\u001b[1;32m    121\u001b[0m             \u001b[0;31m# If it was a training step, we need to count operations for\u001b[0m\u001b[0;34m\u001b[0m\u001b[0;34m\u001b[0m\u001b[0;34m\u001b[0m\u001b[0m\n",
      "\u001b[0;32m~/TUM/1st/I2DL/exercise_06/exercise_06_/exercise_code/networks/optimizer.py\u001b[0m in \u001b[0;36mstep\u001b[0;34m(self)\u001b[0m\n\u001b[1;32m    228\u001b[0m \u001b[0;34m\u001b[0m\u001b[0m\n\u001b[1;32m    229\u001b[0m             \u001b[0;31m# Update the parameter\u001b[0m\u001b[0;34m\u001b[0m\u001b[0;34m\u001b[0m\u001b[0;34m\u001b[0m\u001b[0m\n\u001b[0;32m--> 230\u001b[0;31m             \u001b[0mw_updated\u001b[0m\u001b[0;34m,\u001b[0m \u001b[0mconfig\u001b[0m \u001b[0;34m=\u001b[0m \u001b[0mself\u001b[0m\u001b[0;34m.\u001b[0m\u001b[0m_update\u001b[0m\u001b[0;34m(\u001b[0m\u001b[0mw\u001b[0m\u001b[0;34m,\u001b[0m \u001b[0mdw\u001b[0m\u001b[0;34m,\u001b[0m \u001b[0mconfig\u001b[0m\u001b[0;34m,\u001b[0m \u001b[0mlr\u001b[0m\u001b[0;34m=\u001b[0m\u001b[0mself\u001b[0m\u001b[0;34m.\u001b[0m\u001b[0mlr\u001b[0m\u001b[0;34m)\u001b[0m\u001b[0;34m\u001b[0m\u001b[0;34m\u001b[0m\u001b[0m\n\u001b[0m\u001b[1;32m    231\u001b[0m             \u001b[0mself\u001b[0m\u001b[0;34m.\u001b[0m\u001b[0mmodel\u001b[0m\u001b[0;34m.\u001b[0m\u001b[0mparams\u001b[0m\u001b[0;34m[\u001b[0m\u001b[0mname\u001b[0m\u001b[0;34m]\u001b[0m \u001b[0;34m=\u001b[0m \u001b[0mw_updated\u001b[0m\u001b[0;34m\u001b[0m\u001b[0;34m\u001b[0m\u001b[0m\n\u001b[1;32m    232\u001b[0m             \u001b[0mself\u001b[0m\u001b[0;34m.\u001b[0m\u001b[0moptim_configs\u001b[0m\u001b[0;34m[\u001b[0m\u001b[0mname\u001b[0m\u001b[0;34m]\u001b[0m \u001b[0;34m=\u001b[0m \u001b[0mconfig\u001b[0m\u001b[0;34m\u001b[0m\u001b[0;34m\u001b[0m\u001b[0m\n",
      "\u001b[0;32m~/TUM/1st/I2DL/exercise_06/exercise_06_/exercise_code/networks/optimizer.py\u001b[0m in \u001b[0;36m_update\u001b[0;34m(self, w, dw, config, lr)\u001b[0m\n\u001b[1;32m    201\u001b[0m \u001b[0;34m\u001b[0m\u001b[0m\n\u001b[1;32m    202\u001b[0m         \u001b[0mm\u001b[0m \u001b[0;34m=\u001b[0m \u001b[0mbeta1\u001b[0m \u001b[0;34m*\u001b[0m \u001b[0mm\u001b[0m \u001b[0;34m+\u001b[0m \u001b[0;34m(\u001b[0m\u001b[0;36m1\u001b[0m \u001b[0;34m-\u001b[0m \u001b[0mbeta1\u001b[0m\u001b[0;34m)\u001b[0m \u001b[0;34m*\u001b[0m \u001b[0mdw\u001b[0m\u001b[0;34m\u001b[0m\u001b[0;34m\u001b[0m\u001b[0m\n\u001b[0;32m--> 203\u001b[0;31m         \u001b[0mm_hat\u001b[0m \u001b[0;34m=\u001b[0m \u001b[0mm\u001b[0m \u001b[0;34m/\u001b[0m \u001b[0;34m(\u001b[0m\u001b[0;36m1\u001b[0m \u001b[0;34m-\u001b[0m \u001b[0mnp\u001b[0m\u001b[0;34m.\u001b[0m\u001b[0mpower\u001b[0m\u001b[0;34m(\u001b[0m\u001b[0mbeta1\u001b[0m\u001b[0;34m,\u001b[0m \u001b[0mt\u001b[0m \u001b[0;34m+\u001b[0m \u001b[0;36m1\u001b[0m\u001b[0;34m)\u001b[0m\u001b[0;34m)\u001b[0m\u001b[0;34m\u001b[0m\u001b[0;34m\u001b[0m\u001b[0m\n\u001b[0m\u001b[1;32m    204\u001b[0m         \u001b[0mv\u001b[0m \u001b[0;34m=\u001b[0m \u001b[0mbeta2\u001b[0m \u001b[0;34m*\u001b[0m \u001b[0mv\u001b[0m \u001b[0;34m+\u001b[0m \u001b[0;34m(\u001b[0m\u001b[0;36m1\u001b[0m \u001b[0;34m-\u001b[0m \u001b[0mbeta2\u001b[0m\u001b[0;34m)\u001b[0m \u001b[0;34m*\u001b[0m \u001b[0;34m(\u001b[0m\u001b[0mdw\u001b[0m \u001b[0;34m**\u001b[0m \u001b[0;36m2\u001b[0m\u001b[0;34m)\u001b[0m\u001b[0;34m\u001b[0m\u001b[0;34m\u001b[0m\u001b[0m\n\u001b[1;32m    205\u001b[0m         \u001b[0mv_hat\u001b[0m \u001b[0;34m=\u001b[0m \u001b[0mv\u001b[0m \u001b[0;34m/\u001b[0m \u001b[0;34m(\u001b[0m\u001b[0;36m1\u001b[0m \u001b[0;34m-\u001b[0m \u001b[0mnp\u001b[0m\u001b[0;34m.\u001b[0m\u001b[0mpower\u001b[0m\u001b[0;34m(\u001b[0m\u001b[0mbeta2\u001b[0m\u001b[0;34m,\u001b[0m \u001b[0mt\u001b[0m \u001b[0;34m+\u001b[0m \u001b[0;36m1\u001b[0m\u001b[0;34m)\u001b[0m\u001b[0;34m)\u001b[0m\u001b[0;34m\u001b[0m\u001b[0;34m\u001b[0m\u001b[0m\n",
      "\u001b[0;31mKeyboardInterrupt\u001b[0m: "
     ]
    }
   ],
   "source": [
    "# Best Config: {'learning_rate': 3.2884823894005387e-05, \n",
    "#               'reg': 0.0001, \n",
    "#               'loss_func': <exercise_code.networks.loss.CrossEntropyFromLogits object at 0x7efd84509430>, \n",
    "#               'activation': <exercise_code.networks.layer.LeakyRelu object at 0x7efd84509940>}\n",
    "num_layer = 2\n",
    "epochs = 5\n",
    "reg = 0.0001\n",
    "lr = 3.2884823894005387e-05\n",
    "patience = 5\n",
    "epochs = 10\n",
    "\n",
    "best_model = ClassificationNet(activation = LeakyRelu(), num_layer=num_layer, reg=reg)\n",
    "loss = CrossEntropyFromLogits()\n",
    "\n",
    "solver = Solver(best_model, dataloaders['train_small'], dataloaders['val_500files'], \n",
    "                learning_rate = lr, loss_func=loss, optimizer=Adam)\n",
    "solver.train(epochs=epochs, patience=patience)"
   ]
  },
  {
   "cell_type": "markdown",
   "metadata": {},
   "source": [
    "Feel free to experiment around! The network architecture, optimizer options and activations functions, etc. are hyperparameters that you can change as well!\n",
    "\n",
    "The goal of this exercise is to get your accuracy as high as possible! You'll pass if you reach at least <b>48%</b> accuracy on our test set. There will also be a leaderboard of all students of this course. Will you make it to the top? :-)))"
   ]
  },
  {
   "cell_type": "markdown",
   "metadata": {},
   "source": [
    "## Check your validation accuracy"
   ]
  },
  {
   "cell_type": "code",
   "execution_count": 69,
   "metadata": {},
   "outputs": [
    {
     "name": "stdout",
     "output_type": "stream",
     "text": [
      "Train Accuracy: 10.296474358974358%\n",
      "Validation Accuracy: 10.086137820512821%\n"
     ]
    }
   ],
   "source": [
    "labels, pred, acc = best_model.get_dataset_prediction(dataloaders['train'])\n",
    "print(\"Train Accuracy: {}%\".format(acc*100))\n",
    "labels, pred, acc = best_model.get_dataset_prediction(dataloaders['val'])\n",
    "print(\"Validation Accuracy: {}%\".format(acc*100))"
   ]
  },
  {
   "cell_type": "markdown",
   "metadata": {},
   "source": [
    "# Test your model\n",
    "When you have finished your hyperparameter tuning and are sure you have your final model that performs well on the validation set (**you should at least get 48% accuracy on the validation set!**), it's time to run your  model on the test set.\n",
    "\n",
    "<div class=\"alert alert-danger\">\n",
    "    <h3>Important</h3>\n",
    "    <p>As you have learned in the lecture, you must only use the test set one single time! So only run the next cell if you are really sure your model works well enough and that you want to submit. Your test set is different from the test set on our server, so results may vary. Nevertheless, you will have a reasonable close approximation about your performance if you only do a final evaluation on the test set.</p>\n",
    "    <p>If you are an external student that can't use our submission webpage: this test performance is your final result and if you surpassed the threshold, you have completed this exercise :). Now, train again to aim for a better number!</p>\n",
    "</div>"
   ]
  },
  {
   "cell_type": "code",
   "execution_count": null,
   "metadata": {},
   "outputs": [],
   "source": [
    "# comment this part out to see your model's performance on the test set.\n",
    "'''\n",
    "labels, pred, acc = best_model.get_dataset_prediction(dataloaders['test'])\n",
    "print(\"Test Accuracy: {}%\".format(acc*100))\n",
    "'''"
   ]
  },
  {
   "cell_type": "markdown",
   "metadata": {},
   "source": [
    "Note: The \"real\" test set is actually the dataset we're using for testing your model, which is **different** from the test set you're using here. "
   ]
  },
  {
   "cell_type": "markdown",
   "metadata": {},
   "source": [
    "# Saving your Model"
   ]
  },
  {
   "cell_type": "code",
   "execution_count": null,
   "metadata": {},
   "outputs": [],
   "source": [
    "from exercise_code.tests import save_pickle\n",
    "save_pickle({\"cifar_fcn\": best_model}, \"cifar_fcn.p\")"
   ]
  },
  {
   "cell_type": "code",
   "execution_count": null,
   "metadata": {},
   "outputs": [],
   "source": [
    "from exercise_code.submit import submit_exercise\n",
    "\n",
    "submit_exercise('exercise06')"
   ]
  },
  {
   "cell_type": "markdown",
   "metadata": {},
   "source": [
    "# Submission Instructions\n",
    "\n",
    "Congratulations! You've just built your first image classifier! To complete the exercise, submit your final model to our submission portal - you probably know the procedure by now.\n",
    "\n",
    "1. Go on [our submission page](https://dvl.in.tum.de/teaching/submission/), register for an account and login. We use your matriculation number and send an email with the login details to the mail account associated. When in doubt, login into tum online and check your mails there. You will get an id which we need in the next step.\n",
    "2. Execute the cell below to create a zipped folder for upload.\n",
    "3. Log into [our submission page](https://dvl.in.tum.de/teaching/submission/) with your account details and upload the `zip` file. Once successfully uploaded, you should be able to see the submitted \"cifar_fcn.p\" file selectable on the top.\n",
    "4. Click on this file and run the submission script. You will get an email with your score as well as a message if you have surpassed the threshold."
   ]
  },
  {
   "cell_type": "markdown",
   "metadata": {},
   "source": [
    "# Submission Goals\n",
    "\n",
    "- Goal: Implementation of activation functions and successfully implement a fully connected NN image classifier, tune hyperparameters.\n",
    "\n",
    "- Overview Tasks:\n",
    "\n",
    "    1. Implementation LeakyReLU Activation function: `forward()` and `backward()` pass\n",
    "    2. Implementation Tanh Activation function: `forward()` and `backward()` pass\n",
    "    3. Hyperparamter Tuning + Training of your own network: Reach at least **48%** accuracy on our test set\n",
    "\n",
    "\n",
    "- Passing Criteria: This time, there are no unit tests that check specific components of your code. The only thing that's required to pass the submission, is your model to reach at least **48% accuracy** on __our__ test dataset. The submission system will show you a number between 0 and 100 which corresponds to your accuracy.\n",
    "\n",
    "- Submission start: __Dec 10, 2020 13.00__\n",
    "- Submission deadline : __Dec 16, 2020 15.59__ \n",
    "- You can make **$\\infty$** submissions until the deadline. Your __best submission__ will be considered for bonus."
   ]
  },
  {
   "cell_type": "code",
   "execution_count": null,
   "metadata": {},
   "outputs": [],
   "source": []
  }
 ],
 "metadata": {
  "kernelspec": {
   "display_name": "Python 3",
   "language": "python",
   "name": "python3"
  },
  "language_info": {
   "codemirror_mode": {
    "name": "ipython",
    "version": 3
   },
   "file_extension": ".py",
   "mimetype": "text/x-python",
   "name": "python",
   "nbconvert_exporter": "python",
   "pygments_lexer": "ipython3",
   "version": "3.8.5"
  }
 },
 "nbformat": 4,
 "nbformat_minor": 1
}
